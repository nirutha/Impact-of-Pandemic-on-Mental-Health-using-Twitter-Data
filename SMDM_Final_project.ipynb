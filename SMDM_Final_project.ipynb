{
 "cells": [
  {
   "cell_type": "markdown",
   "metadata": {},
   "source": [
    "# Social media Data Mining Final Project\n"
   ]
  },
  {
   "cell_type": "markdown",
   "metadata": {},
   "source": [
    "# IMPACT OF PANDEMIC ON MENTAL HEALTH USING TWITTER DATA"
   ]
  },
  {
   "cell_type": "markdown",
   "metadata": {},
   "source": [
    "## Team members:\n",
    "### * Nirutha Amaranath\n",
    "### * Hemaleka Mohanram\n",
    "### * Pallavi Giri\n",
    "### * Priyanka Balwadkar"
   ]
  },
  {
   "cell_type": "markdown",
   "metadata": {},
   "source": [
    "## Problem statement"
   ]
  },
  {
   "cell_type": "markdown",
   "metadata": {},
   "source": [
    "### The goal of this project is to analyze the impact of the pandemic on mental health and the different mental health conditions people are suffering. We will analyze tweets using different classifiers to identify the number of people experiencing depression, anxiety, and stress. The steps include mining the Twitter data, preprocessing, sentiment analysis, machine learning methods for classification and analysis of different mental illnesses before and after the pandemic"
   ]
  },
  {
   "cell_type": "markdown",
   "metadata": {},
   "source": [
    "### There are 4 folders \n",
    "### * Code folder which contains the codes for the project\n",
    "### * DATA folder stores all the the csv files with tweets collected from twitter\n",
    "### * Input folder contains the oauth csv file which has tweets access token and secret and APi access token and secret\n",
    "### * Input folder also contains combined.csv file which is created by combining and consolidating all the collected tweets into a single csv\n",
    "### * output folder which saves the graphs and output images"
   ]
  },
  {
   "cell_type": "markdown",
   "metadata": {},
   "source": [
    "## Install the necessary packages"
   ]
  },
  {
   "cell_type": "code",
   "execution_count": null,
   "metadata": {},
   "outputs": [],
   "source": [
    "! pip install wordcloud\n",
    "! pip install cufflinks"
   ]
  },
  {
   "cell_type": "markdown",
   "metadata": {},
   "source": [
    "## Import the packages"
   ]
  },
  {
   "cell_type": "code",
   "execution_count": 1,
   "metadata": {},
   "outputs": [],
   "source": [
    "import os\n",
    "import pandas as pd\n",
    "import re"
   ]
  },
  {
   "cell_type": "code",
   "execution_count": 2,
   "metadata": {},
   "outputs": [],
   "source": [
    "# packages needed for twitter data collection\n",
    "import tweepy as tw\n",
    "from datetime import datetime\n",
    "\n"
   ]
  },
  {
   "cell_type": "code",
   "execution_count": 3,
   "metadata": {},
   "outputs": [],
   "source": [
    "# packages needed for preprocessing\n",
    "import nltk\n",
    "from bs4 import BeautifulSoup\n",
    "import string\n",
    "# stop words\n",
    "from nltk.corpus import stopwords\n",
    "# import tokenizer\n",
    "from nltk.tokenize import RegexpTokenizer\n",
    "from nltk.stem import WordNetLemmatizer\n",
    "from nltk.stem.porter import PorterStemmer\n",
    "import re"
   ]
  },
  {
   "cell_type": "code",
   "execution_count": 4,
   "metadata": {},
   "outputs": [],
   "source": [
    "# package needed for word cloud\n",
    "from wordcloud import WordCloud, STOPWORDS \n",
    "import matplotlib.pyplot as plt \n"
   ]
  },
  {
   "cell_type": "code",
   "execution_count": 5,
   "metadata": {},
   "outputs": [],
   "source": [
    "import  textblob\n",
    "from textblob.classifiers import NaiveBayesClassifier\n",
    "from textblob import TextBlob\n"
   ]
  },
  {
   "cell_type": "code",
   "execution_count": 6,
   "metadata": {},
   "outputs": [],
   "source": [
    "import csv\n",
    "from csv import writer\n",
    "import numpy as np\n",
    "from matplotlib.pyplot import pie, axis, show"
   ]
  },
  {
   "cell_type": "code",
   "execution_count": 7,
   "metadata": {},
   "outputs": [],
   "source": [
    "# packages needed for topic modeling\n",
    "import re\n",
    "import numpy as np\n",
    "import pandas as pd\n",
    "from pprint import pprint\n",
    "\n",
    "# Gensim\n",
    "import gensim\n",
    "import gensim.corpora as corpora\n",
    "from gensim.utils import simple_preprocess\n",
    "from gensim.models import CoherenceModel\n",
    "\n",
    "# spacy for lemmatization\n",
    "import spacy\n",
    "\n",
    "# Plotting tools\n",
    "import pyLDAvis\n",
    "import pyLDAvis.gensim  # don't skip this\n",
    "import matplotlib.pyplot as plt\n",
    "#%matplotlib inline\n",
    "import warnings\n",
    "warnings.filterwarnings(\"ignore\",category=DeprecationWarning)\n",
    "from sklearn.feature_extraction.text import CountVectorizer\n",
    "\n",
    "from nltk.corpus import stopwords\n"
   ]
  },
  {
   "cell_type": "code",
   "execution_count": 8,
   "metadata": {},
   "outputs": [],
   "source": [
    "## packages needed for classification\n",
    "import cufflinks as cf\n",
    "\n",
    "import sklearn\n",
    "\n",
    "from sklearn.feature_extraction.text import CountVectorizer\n",
    "\n",
    "from sklearn.feature_extraction.text import TfidfVectorizer\n",
    "\n",
    "from sklearn.model_selection import train_test_split\n",
    "\n",
    "from sklearn.metrics import classification_report, accuracy_score, precision_score, recall_score, f1_score, confusion_matrix, plot_confusion_matrix \n",
    "\n",
    "from sklearn.linear_model import LogisticRegression\n",
    "\n",
    "from sklearn import model_selection, naive_bayes, svm\n",
    "from sklearn.ensemble import RandomForestClassifier\n",
    "from sklearn.neural_network import MLPClassifier\n",
    "from sklearn.tree import DecisionTreeClassifier, plot_tree\n"
   ]
  },
  {
   "cell_type": "code",
   "execution_count": 9,
   "metadata": {},
   "outputs": [],
   "source": [
    "#Packages needed for clustering\n",
    "import json\n",
    "import pandas as pd\n",
    "import time\n",
    "import numpy as np\n",
    "import itertools\n",
    "import matplotlib.pyplot as plt \n",
    "from sklearn.metrics import confusion_matrix\n",
    "from sklearn.feature_extraction.text import CountVectorizer\n",
    "from sklearn import metrics\n",
    "from sklearn.cluster import KMeans \n",
    "from sklearn.feature_extraction.text import TfidfVectorizer\n",
    "from sklearn.decomposition import PCA\n",
    "from sklearn.preprocessing import normalize\n",
    "from sklearn.metrics import pairwise_distances\n",
    "from sklearn.model_selection import train_test_split\n",
    "\n",
    "import nltk\n",
    "import string\n",
    "\n",
    "import matplotlib.pyplot as plt\n",
    "%matplotlib inline\n",
    "plt.style.use('fivethirtyeight')"
   ]
  },
  {
   "cell_type": "markdown",
   "metadata": {},
   "source": [
    "### adding paths"
   ]
  },
  {
   "cell_type": "code",
   "execution_count": 14,
   "metadata": {},
   "outputs": [
    {
     "data": {
      "text/plain": [
       "'C:\\\\Users\\\\hemal\\\\Desktop\\\\Masters\\\\SEM2\\\\SMDM\\\\Project\\\\Final_Project'"
      ]
     },
     "execution_count": 14,
     "metadata": {},
     "output_type": "execute_result"
    }
   ],
   "source": [
    "mydir = os.getcwd()\n",
    "mydir\n"
   ]
  },
  {
   "cell_type": "code",
   "execution_count": 12,
   "metadata": {},
   "outputs": [],
   "source": [
    "# to move from code folder to parent directory \n",
    "os.chdir(\"..\")#\"C:\\\\Users\\\\hemal\\\\Desktop\\\\Masters\\\\SEM2\\\\SMDM\\\\Project\\\\Final_Project\")"
   ]
  },
  {
   "cell_type": "code",
   "execution_count": 13,
   "metadata": {},
   "outputs": [],
   "source": [
    "### specify the PAths to different folders \n",
    "inputpath = os.getcwd() + \"\\\\Input\\\\\" #\"C:\\\\Users\\\\hemal\\\\Desktop\\\\Masters\\\\SEM2\\\\SMDM\\\\Project\\\\Final_Project\\\\Input\"\n",
    "outputpath = os.getcwd() +\"\\\\Output\\\\\" #\"C:\\\\Users\\\\hemal\\\\Desktop\\\\Masters\\\\SEM2\\\\SMDM\\\\Project\\\\Final_Project\\\\Output\"\n",
    "datapath = os.getcwd() + \"\\\\Data\\\\\" #\"C:\\\\Users\\\\hemal\\\\Desktop\\\\Masters\\\\SEM2\\\\SMDM\\\\Project\\\\Final_Project\\\\Data\""
   ]
  },
  {
   "cell_type": "markdown",
   "metadata": {},
   "source": [
    "# DATA COLLECTION"
   ]
  },
  {
   "cell_type": "markdown",
   "metadata": {},
   "source": [
    "### Collecting tweets from twitter using tweepy package"
   ]
  },
  {
   "cell_type": "markdown",
   "metadata": {},
   "source": [
    "## For twitter authorisation, the access token and secret, API key and API secret are stored in a CSV file inside the folder input which is read to access the value\n",
    "## as a means of data Abstraction"
   ]
  },
  {
   "cell_type": "code",
   "execution_count": null,
   "metadata": {},
   "outputs": [],
   "source": [
    "oauthpath = inputpath + \"\\\\oauth.csv\"\n",
    "oauth=pd.read_csv(oauthpath)\n",
    "print(\"Successfully read the oauth file\")\n",
    "#oauth"
   ]
  },
  {
   "cell_type": "code",
   "execution_count": null,
   "metadata": {},
   "outputs": [],
   "source": [
    "CONSUMER_KEY = oauth[\"CONSUMER_KEY\"][0]\n",
    "CONSUMER_SECRET =oauth[\"CONSUMER_SECRET\"][0]\n",
    "OAUTH_TOKEN = oauth[\"OAUTH_TOKEN\"][0]\n",
    "OAUTH_TOKEN_SECRET =oauth[\"OAUTH_TOKEN_SECRET\"][0] \n"
   ]
  },
  {
   "cell_type": "markdown",
   "metadata": {},
   "source": [
    "### pass the oauth tokens to connect to twitter"
   ]
  },
  {
   "cell_type": "code",
   "execution_count": null,
   "metadata": {},
   "outputs": [],
   "source": [
    "auth = tw.OAuthHandler(CONSUMER_KEY, CONSUMER_SECRET)\n",
    "auth.set_access_token(OAUTH_TOKEN, OAUTH_TOKEN_SECRET)\n",
    "api = tw.API(auth, wait_on_rate_limit=True)"
   ]
  },
  {
   "cell_type": "markdown",
   "metadata": {},
   "source": [
    "### Function name: df_creation_twitter\n",
    "### This function is used collect tweets by specific search keywords and create a CSV file with search word name + date at which it is created and saved inside the DATA folder\n",
    "\n",
    "\n"
   ]
  },
  {
   "cell_type": "code",
   "execution_count": null,
   "metadata": {},
   "outputs": [],
   "source": [
    "def df_creation_twitter(api,search_words,date_since,limit):\n",
    "    #data=api.search(q=search_words, lang=\"en\",since=date_since, rpp=limit)\n",
    "    tweets = tw.Cursor(api.search,q=search_words,since=date_since,lang=\"en\",tweet_mode=\"extended\",result_type=\"recent\").items(limit)\n",
    "    now = datetime.now()\n",
    "\n",
    "    current_time = now.strftime(\"%m_%d_%Y_%H_%M\")\n",
    "    \n",
    "    data_dict = { \"ID\":[],\"User_Name\":[],\"created\":[],\"tweet\":[]}\n",
    "    csv_name = datapath + search_words[1:]+current_time+\"_twitter.csv\"\n",
    "    \n",
    "    for tweet in tweets:\n",
    "        print(tweet.id)\n",
    "        data_dict[\"ID\"].append(tweet.id)\n",
    "        data_dict[\"User_Name\"].append(tweet.user.name)\n",
    "        data_dict[\"created\"].append(tweet.created_at)\n",
    "        data_dict[\"tweet\"].append(tweet.full_text) # tweet.text if we dont use tweet_mode = \"extended\"\n",
    "\n",
    "    data_frame = pd.DataFrame(data_dict)\n",
    "    data_frame.to_csv(csv_name, index=False)\n",
    "    return data_frame\n",
    "    "
   ]
  },
  {
   "cell_type": "markdown",
   "metadata": {},
   "source": [
    "### Specify all the keywords to be searched as a list to search_words\n"
   ]
  },
  {
   "cell_type": "code",
   "execution_count": null,
   "metadata": {},
   "outputs": [],
   "source": [
    "\n",
    "search_words = [\"#depression\",\"#anxiety\",\"#ADHD\",\"#PTSD\"]\n",
    "date_since = \"2019-01-01\"\n",
    "limit=10000\n"
   ]
  },
  {
   "cell_type": "markdown",
   "metadata": {},
   "source": [
    "### We loop over for each search word and create csv files and save it inside DATA folder"
   ]
  },
  {
   "cell_type": "code",
   "execution_count": null,
   "metadata": {
    "scrolled": true
   },
   "outputs": [],
   "source": [
    "# Define the search term and the date_since date as variables\n",
    "# loop over for each keyword, extract the tweets and create a csv file\n",
    "for search_key in search_words:\n",
    "    print(\"Collecting tweets for keyword: {0}...\".format(search_key[1:]))\n",
    "    df=df_creation_twitter(api,search_key,date_since,limit)\n",
    "    print(\"Total tweeets collected: {0}\".format(len(df)))\n",
    "    print(df.head())\n"
   ]
  },
  {
   "cell_type": "markdown",
   "metadata": {},
   "source": [
    "### Another data collection code"
   ]
  },
  {
   "cell_type": "code",
   "execution_count": null,
   "metadata": {},
   "outputs": [],
   "source": [
    "csvFile = open('Data.csv', 'a')\n",
    "#Use csv Writer\n",
    "csvWriter = csv.writer(csvFile)\n",
    "\n",
    "for tweet in tweepy.Cursor(api.search,q=\"#depressed OR #depression OR #loneliness OR #hopelessness OR anxiety OR sad\", tweet_mode=\"extended\",\n",
    "                           lang=\"en\",\n",
    "                           since=\"2020-10-01\").items():\n",
    "    csvWriter.writerow([tweet.created_at, tweet.full_text.encode('utf-8')])"
   ]
  },
  {
   "cell_type": "markdown",
   "metadata": {},
   "source": [
    "### After Data collection, we will combine all the csv files into a single CSV file in a specific format with only tweets as columnsand create combined.csv which is saved inside the input folder"
   ]
  },
  {
   "cell_type": "markdown",
   "metadata": {},
   "source": [
    "### Read the combined.CSV file from input folder\n"
   ]
  },
  {
   "cell_type": "markdown",
   "metadata": {},
   "source": [
    "### Combined csv file contains the tweets collected in different period of time related to depression, covid, pandemic, mental health etc."
   ]
  },
  {
   "cell_type": "code",
   "execution_count": null,
   "metadata": {},
   "outputs": [],
   "source": [
    "combinedFilePath = inputpath+ \"combined_file.csv\"\n",
    "allTweets=pd.read_csv(combinedFilePath,engine=\"python\")"
   ]
  },
  {
   "cell_type": "code",
   "execution_count": null,
   "metadata": {},
   "outputs": [],
   "source": [
    "print(\"Read the combined csv file succesfully\")\n",
    "print(allTweets.head())\n",
    "print(len(allTweets))"
   ]
  },
  {
   "cell_type": "markdown",
   "metadata": {},
   "source": [
    "### From the combined data, filter for the tweets which has the keyword COVID or pandemic\n",
    "### We do this to get all COVID related tweets which can be used in our analysis "
   ]
  },
  {
   "cell_type": "code",
   "execution_count": null,
   "metadata": {},
   "outputs": [],
   "source": [
    "search_values = ['covid', 'pandemic','corona']\n",
    "\n",
    "patt = '|'.join(search_values)\n",
    "\n",
    "pandemic_tweets = allTweets[allTweets.apply(lambda x: x.str.contains(patt,flags = re.IGNORECASE)).any(1)]"
   ]
  },
  {
   "cell_type": "code",
   "execution_count": null,
   "metadata": {},
   "outputs": [],
   "source": [
    "# after filtering the data we will reset the index \n",
    "pandemic_tweets.reset_index(drop=True)"
   ]
  },
  {
   "cell_type": "markdown",
   "metadata": {},
   "source": [
    "## Preprocessing of data"
   ]
  },
  {
   "cell_type": "markdown",
   "metadata": {},
   "source": [
    "### Preprocessing is done process our tweets to make it reay for analysis\n",
    "### In preprocessing, we'll remove the punctuations, URL, stopwords and toeknize and lemmatize the data\n",
    "### We are using NLTK package for preprocessing\n"
   ]
  },
  {
   "cell_type": "code",
   "execution_count": null,
   "metadata": {},
   "outputs": [],
   "source": [
    "nltk.download('stopwords')\n",
    "nltk.download('wordnet')\n"
   ]
  },
  {
   "cell_type": "code",
   "execution_count": null,
   "metadata": {},
   "outputs": [],
   "source": [
    "stop_words = stopwords.words('english')\n",
    "print(stop_words)\n",
    "stop_words.extend(['rt',\"brt\"])"
   ]
  },
  {
   "cell_type": "markdown",
   "metadata": {},
   "source": [
    "### We have created seperate functions for each preprocessing step\n",
    "### Function name: remove_URL\n",
    "    * This function is used to remove the urls from our tweets. This uses the package re\n",
    "### Function name: remove_punctuation\n",
    "    * This function is used to remove the punctuations in our tweets. This removes all the punctuations from string.punctuation \n",
    "### Function name: tokenize_my_text\n",
    "    * This function is used to tokenize my tweets. It uses RegexpTokenizer which considers each word as a seperate token\n",
    "### Function name: remove_stopwords\n",
    "    * This function is used remove the unnecessary stop words from our tweets we use nltk.stopwords\n",
    "### Function name: lemmatize_my_text\n",
    "    * This function is used to lemmatize my tweets. Lemmatization is a process where convert the words to its root words. we use WordNetLemmatizer \n",
    "### Function name: stem_my_text\n",
    "    * this function is used to stem the words. this is similar to lemmatization. we use PorterStemmer for this function. \n",
    "    "
   ]
  },
  {
   "cell_type": "code",
   "execution_count": null,
   "metadata": {},
   "outputs": [],
   "source": [
    "def remove_URL(text):\n",
    "    \"\"\"Remove URLs from a sample string\"\"\"\n",
    "    text_without_url = re.sub(r\"http\\S+\", \"\", text) \n",
    "    return text_without_url"
   ]
  },
  {
   "cell_type": "code",
   "execution_count": null,
   "metadata": {},
   "outputs": [],
   "source": [
    "def remove_punctuation(text):\n",
    "    text_without_punctuation = \"\".join([c for c in text if c not in string.punctuation])\n",
    "    return text_without_punctuation"
   ]
  },
  {
   "cell_type": "code",
   "execution_count": null,
   "metadata": {},
   "outputs": [],
   "source": [
    "# tokenizing\n",
    "tokenizer = RegexpTokenizer(r'\\w+')\n",
    "#‘\\s+’, gaps=True grabs everything except space as token\n",
    "#‘\\w+|\\$[\\d\\.]+|\\S+’ = splits up by spaces or by periods that are not attached to a digit\n",
    "def tokenize_my_text(text):\n",
    "    words_after_tokenization = tokenizer.tokenize(text.lower())\n",
    "    return words_after_tokenization"
   ]
  },
  {
   "cell_type": "code",
   "execution_count": null,
   "metadata": {},
   "outputs": [],
   "source": [
    "def remove_stopwords(text):\n",
    "    words = [w for w in text if w not in stop_words]\n",
    "    return words"
   ]
  },
  {
   "cell_type": "code",
   "execution_count": null,
   "metadata": {},
   "outputs": [],
   "source": [
    "# Lemmatization\n",
    "lemmatizer = WordNetLemmatizer()\n",
    "def lemmatize_my_text(text):\n",
    "    text_after_lemmatization = [lemmatizer.lemmatize(i) for i in text]\n",
    "    return text_after_lemmatization\n"
   ]
  },
  {
   "cell_type": "code",
   "execution_count": null,
   "metadata": {},
   "outputs": [],
   "source": [
    "# stemming\n",
    "stemmer = PorterStemmer()\n",
    "def stem_my_text(text):\n",
    "    text_after_stemming = \" \".join([stemmer.stem(i) for i in text])\n",
    "    return text_after_stemming"
   ]
  },
  {
   "cell_type": "markdown",
   "metadata": {},
   "source": [
    "## Preprocessing"
   ]
  },
  {
   "cell_type": "code",
   "execution_count": null,
   "metadata": {},
   "outputs": [],
   "source": [
    "#allTweets\n",
    "pandemic_tweets.head()"
   ]
  },
  {
   "cell_type": "code",
   "execution_count": null,
   "metadata": {},
   "outputs": [],
   "source": [
    "# remove url\n",
    "pandemic_tweets[\"preprocessed_data\"] = pandemic_tweets[\"Tweets\"].apply(lambda x: remove_URL(x))\n",
    "print(pandemic_tweets[\"preprocessed_data\"])\n"
   ]
  },
  {
   "cell_type": "code",
   "execution_count": null,
   "metadata": {},
   "outputs": [],
   "source": [
    "# remove punctuation\n",
    "pandemic_tweets[\"preprocessed_data\"] = pandemic_tweets[\"preprocessed_data\"].apply(lambda x: remove_punctuation(x))\n",
    "print(pandemic_tweets[\"preprocessed_data\"])\n",
    "\n"
   ]
  },
  {
   "cell_type": "code",
   "execution_count": null,
   "metadata": {},
   "outputs": [],
   "source": [
    "# tokenize my tweets\n",
    "pandemic_tweets[\"preprocessed_data\"] = pandemic_tweets[\"preprocessed_data\"].apply(lambda x: tokenize_my_text(x))\n",
    "print(pandemic_tweets[\"preprocessed_data\"])\n",
    "\n"
   ]
  },
  {
   "cell_type": "code",
   "execution_count": null,
   "metadata": {},
   "outputs": [],
   "source": [
    "# remove stop words\n",
    "pandemic_tweets[\"preprocessed_data\"] = pandemic_tweets[\"preprocessed_data\"].apply(lambda x: remove_stopwords(x))\n",
    "print(pandemic_tweets[\"preprocessed_data\"])\n"
   ]
  },
  {
   "cell_type": "code",
   "execution_count": null,
   "metadata": {},
   "outputs": [],
   "source": [
    "# lemmatization\n",
    "pandemic_tweets[\"preprocessed_data\"] = pandemic_tweets[\"preprocessed_data\"].apply(lambda x: lemmatize_my_text(x))\n",
    "print(pandemic_tweets[\"preprocessed_data\"])\n"
   ]
  },
  {
   "cell_type": "code",
   "execution_count": null,
   "metadata": {},
   "outputs": [],
   "source": [
    "print(pandemic_tweets[\"preprocessed_data\"])\n"
   ]
  },
  {
   "cell_type": "code",
   "execution_count": null,
   "metadata": {},
   "outputs": [],
   "source": [
    "preprocessed1 = pd.DataFrame(pandemic_tweets[\"preprocessed_data\"])\n"
   ]
  },
  {
   "cell_type": "code",
   "execution_count": null,
   "metadata": {},
   "outputs": [],
   "source": [
    "# write pd to csv\n",
    "preprocessedpath = inputpath + \"Preprocessed_data_pandemic_tweets.csv\"\n",
    "preprocessed1.to_csv(preprocessedpath,header=[\"Preprocessed_data\"],encoding=\"unicode_escape\",index=False)"
   ]
  },
  {
   "cell_type": "markdown",
   "metadata": {},
   "source": [
    "## Word cloud\n",
    "### We create Word cloud for the preprocessed pandemic tweets to find the most commonly occuring words \n",
    "### word cloud will give us an idea of our data"
   ]
  },
  {
   "cell_type": "code",
   "execution_count": null,
   "metadata": {},
   "outputs": [],
   "source": [
    "comment_words = '' \n",
    "stopwords=set((STOPWORDS).union(set([\"rt\",\"brt\",\"ixe2x80x99m\",\"amp\",\"itxe2x80x99\",\"itxe2x80x99s\"]))) \n",
    "for list_tokens in allTweets[\"preprocessed_data\"]:\n",
    "    comment_words += \" \".join(list_tokens)+\" \"\n",
    "    \n"
   ]
  },
  {
   "cell_type": "code",
   "execution_count": null,
   "metadata": {},
   "outputs": [],
   "source": [
    "len(comment_words)"
   ]
  },
  {
   "cell_type": "code",
   "execution_count": null,
   "metadata": {},
   "outputs": [],
   "source": [
    "wordcloud = WordCloud(width = 1000, height = 1000, \n",
    "                background_color ='white', \n",
    "                stopwords = stopwords, \n",
    "                min_font_size = 10).generate(comment_words) \n",
    "  \n",
    "# plot the WordCloud image                        \n",
    "plt.figure(figsize = (8, 8), facecolor = None) \n",
    "plt.imshow(wordcloud) \n",
    "plt.axis(\"off\") \n",
    "plt.tight_layout(pad = 0) \n",
    "  \n",
    "plt.show() "
   ]
  },
  {
   "cell_type": "code",
   "execution_count": null,
   "metadata": {},
   "outputs": [],
   "source": [
    "# save the word cloud inside the output folder\n",
    "wordcloud_path = outputpath + \"wordCloud.png\"\n",
    "wordcloud.to_file(wordcloud_path)"
   ]
  },
  {
   "cell_type": "markdown",
   "metadata": {},
   "source": [
    "## Sentiment analysis\n",
    "    * Sentiment analysis is a process for finding out the sentiment of our tweets \n",
    "    * sentiments can be positive, negative or neutral\n",
    "    * We use a file dictionary.tsv which contains all the keywords related to depression\n",
    "    * We train a naive bayes model using this dictionary.tsv and then predict the sentiment of our tweets\n",
    "    * we classify the negative sentiment tweets as depressed and others as non depressed"
   ]
  },
  {
   "cell_type": "code",
   "execution_count": null,
   "metadata": {},
   "outputs": [],
   "source": [
    "nltk.download('punkt')"
   ]
  },
  {
   "cell_type": "code",
   "execution_count": null,
   "metadata": {},
   "outputs": [],
   "source": [
    "dictionary_df=pd.read_csv(\"dictionary.tsv\",sep= \"\\t\")"
   ]
  },
  {
   "cell_type": "code",
   "execution_count": null,
   "metadata": {
    "scrolled": true
   },
   "outputs": [],
   "source": [
    "dictionary_df\n"
   ]
  },
  {
   "cell_type": "code",
   "execution_count": null,
   "metadata": {
    "scrolled": true
   },
   "outputs": [],
   "source": [
    "import csv\n",
    "y=[]\n",
    "with open(\"dictionary.tsv\") as tsvfile:\n",
    "    reader = csv.reader(tsvfile, delimiter='\\t')\n",
    "    for row in reader:\n",
    "        i = []\n",
    "        i.append(row[2])\n",
    "        i.append(row[5])\n",
    "        y.append(i)\n",
    "    print(\"===========================\")\n",
    "    print(\"Dictionary Preparation Done\")\n",
    "    print(\"===========================\\n\\n\")\n",
    "    print(y)"
   ]
  },
  {
   "cell_type": "code",
   "execution_count": null,
   "metadata": {},
   "outputs": [],
   "source": [
    "# tells what all variables currently in use\n",
    "%whos"
   ]
  },
  {
   "cell_type": "code",
   "execution_count": null,
   "metadata": {
    "scrolled": true
   },
   "outputs": [],
   "source": [
    "cl=NaiveBayesClassifier(y)"
   ]
  },
  {
   "cell_type": "markdown",
   "metadata": {},
   "source": [
    "### Function name : append_list_as_row\n",
    "    * This function is used to open and write to a csv file"
   ]
  },
  {
   "cell_type": "code",
   "execution_count": null,
   "metadata": {},
   "outputs": [],
   "source": [
    "\n",
    "def append_list_as_row(file_name, list_of_elem):\n",
    "    # Open file in append mode\n",
    "    with open(file_name, 'a+', newline='') as write_obj:\n",
    "        # Create a writer object from csv module\n",
    "        csv_writer = writer(write_obj)\n",
    "        # Add contents of list as last row in the csv file\n",
    "        csv_writer.writerow(list_of_elem)"
   ]
  },
  {
   "cell_type": "code",
   "execution_count": null,
   "metadata": {},
   "outputs": [],
   "source": [
    "sentiment_results= pandemic_tweets.copy(deep = True)\n"
   ]
  },
  {
   "cell_type": "code",
   "execution_count": null,
   "metadata": {},
   "outputs": [],
   "source": [
    "# create a new column for sentiments\n",
    "sentiment_results[\"sentiment\"] = np.nan"
   ]
  },
  {
   "cell_type": "code",
   "execution_count": null,
   "metadata": {},
   "outputs": [],
   "source": [
    "sentiment_results[\"sentiment\"] = (pandemic_tweets[\"preprocessed_data\"]).apply(lambda x: cl.classify(x))\n",
    "    "
   ]
  },
  {
   "cell_type": "code",
   "execution_count": null,
   "metadata": {},
   "outputs": [],
   "source": [
    "# we loop for each tweet \n",
    "length = len(sentiment_results)\n",
    "for i in range(0,length,2000):\n",
    "    sentiment_results[\"sentiment\"][i:i+2000] = (allTweets[\"preprocessed_data\"][i:i+2000]).apply(lambda x: cl.classify(x))\n",
    "    "
   ]
  },
  {
   "cell_type": "code",
   "execution_count": null,
   "metadata": {},
   "outputs": [],
   "source": [
    "sentiment_results.head(50)"
   ]
  },
  {
   "cell_type": "markdown",
   "metadata": {},
   "source": [
    "# PIE graph"
   ]
  },
  {
   "cell_type": "code",
   "execution_count": null,
   "metadata": {},
   "outputs": [],
   "source": [
    "# pie graph\n",
    "sentiment_results[\"sentiment\"].value_counts().plot(kind='pie')"
   ]
  },
  {
   "cell_type": "code",
   "execution_count": null,
   "metadata": {},
   "outputs": [],
   "source": [
    " data2019path =inputpath + \"outputdata.csv\"\n",
    "df = pd.read_csv(data2019path)\n",
    "fig = df['sentiment'].value_counts().plot(kind='pie',autopct='%1.1f%%',title=\"2019-Tweets\",figsize=(5,5),labels=['Negative','Neutral','Positive']).get_figure()"
   ]
  },
  {
   "cell_type": "markdown",
   "metadata": {},
   "source": [
    "## Bar plot"
   ]
  },
  {
   "cell_type": "code",
   "execution_count": null,
   "metadata": {},
   "outputs": [],
   "source": [
    "\n",
    "labels = ['  Year - 2019','  Year - 2020']\n",
    "x = np.arange(len(labels))\n",
    "width = 0.1\n",
    "\n",
    "y = [24.3,24.9]\n",
    "z = [37,26.5]\n",
    "k = [38.7,48.6]\n",
    "\n",
    "fig = plt.figure(figsize=(10,7))\n",
    "ax = fig.add_subplot()\n",
    "\n",
    "rects1 = ax.bar(ind, y, width=0.1, color='gold', label='Positive')\n",
    "rects2 = ax.bar(ind+width, z, width=0.1, color='c',label='Neutral')\n",
    "rects3 = ax.bar(ind+width*2, k, width=0.1, color='indigo',label='Negative')\n",
    "\n",
    "ax.set_ylabel('Percentage')\n",
    "ax.set_title('Depression tweets by year\\n')\n",
    "\n",
    "ax.set_xticks(x)\n",
    "ax.set_xticklabels(labels)\n",
    "ax.legend()\n",
    "\n",
    "\n",
    "def autolabel(rects):\n",
    "    for rect in rects:\n",
    "        h = rect.get_height()\n",
    "        ax.text(rect.get_x()+rect.get_width()/2., 1.00*h, '%d'%int(h),\n",
    "                ha='center', va='bottom')\n",
    "autolabel(rects1)\n",
    "autolabel(rects2)\n",
    "autolabel(rects3)\n",
    "plt.show()\n",
    "figurepath = outputpath + \"BarplotAnalysis.png\"\n",
    "fig.savefig(figurepath)"
   ]
  },
  {
   "cell_type": "markdown",
   "metadata": {},
   "source": [
    "## Topic modeling\n",
    "### Topic modeling is a process to identify the mostly likely topics present in a group of documents\n",
    "### we used LDA model for topic modeling - we used gensim package"
   ]
  },
  {
   "cell_type": "code",
   "execution_count": null,
   "metadata": {},
   "outputs": [],
   "source": [
    "import nltk\n",
    "nltk.download('stopwords')"
   ]
  },
  {
   "cell_type": "code",
   "execution_count": null,
   "metadata": {},
   "outputs": [],
   "source": [
    "# NLTK Stop words\n",
    "## We remove the unnecessary words from the text data like \"the\", \"a\", etc which does not have any significance\n",
    "stop_words = stopwords.words('english')\n",
    "print(stop_words)\n",
    "stop_words.extend(['from', 'subject', 're', 'edu', 'use',\"rt\"])"
   ]
  },
  {
   "cell_type": "markdown",
   "metadata": {},
   "source": [
    "## Classification of data into depressed and not depressed"
   ]
  },
  {
   "cell_type": "code",
   "execution_count": null,
   "metadata": {},
   "outputs": [],
   "source": [
    "## read the sentiment analysis result csv or we can take it from df directly"
   ]
  },
  {
   "cell_type": "code",
   "execution_count": 15,
   "metadata": {},
   "outputs": [],
   "source": [
    "sentimentpath = inputpath + \"sentiment_analysisComplete.csv\"\n",
    "sentiment_results=pd.read_csv(sentimentpath,engine=\"python\")"
   ]
  },
  {
   "cell_type": "code",
   "execution_count": 16,
   "metadata": {},
   "outputs": [
    {
     "data": {
      "text/html": [
       "<div>\n",
       "<style scoped>\n",
       "    .dataframe tbody tr th:only-of-type {\n",
       "        vertical-align: middle;\n",
       "    }\n",
       "\n",
       "    .dataframe tbody tr th {\n",
       "        vertical-align: top;\n",
       "    }\n",
       "\n",
       "    .dataframe thead th {\n",
       "        text-align: right;\n",
       "    }\n",
       "</style>\n",
       "<table border=\"1\" class=\"dataframe\">\n",
       "  <thead>\n",
       "    <tr style=\"text-align: right;\">\n",
       "      <th></th>\n",
       "      <th>Tweets</th>\n",
       "      <th>preprocessed_data</th>\n",
       "      <th>sentiment</th>\n",
       "    </tr>\n",
       "  </thead>\n",
       "  <tbody>\n",
       "    <tr>\n",
       "      <td>0</td>\n",
       "      <td>The #COVID19 health crisis has prompted an exp...</td>\n",
       "      <td>['covid19', 'health', 'crisis', 'prompted', 'e...</td>\n",
       "      <td>negative</td>\n",
       "    </tr>\n",
       "    <tr>\n",
       "      <td>1</td>\n",
       "      <td>AT&amp;amp;T Supports Families &amp;amp; Educators Dur...</td>\n",
       "      <td>['atampt', 'support', 'family', 'amp', 'educat...</td>\n",
       "      <td>positive</td>\n",
       "    </tr>\n",
       "    <tr>\n",
       "      <td>2</td>\n",
       "      <td>RT @reach4kids: #REACH4kids Harlan Gephart, MD...</td>\n",
       "      <td>['reach4kids', 'reach4kids', 'harlan', 'gephar...</td>\n",
       "      <td>negative</td>\n",
       "    </tr>\n",
       "    <tr>\n",
       "      <td>3</td>\n",
       "      <td>RT @WPCmeetings: Scan the barcode and register...</td>\n",
       "      <td>['wpcmeetings', 'scan', 'barcode', 'register',...</td>\n",
       "      <td>negative</td>\n",
       "    </tr>\n",
       "    <tr>\n",
       "      <td>4</td>\n",
       "      <td>Scan the barcode and register for the internat...</td>\n",
       "      <td>['scan', 'barcode', 'register', 'international...</td>\n",
       "      <td>negative</td>\n",
       "    </tr>\n",
       "    <tr>\n",
       "      <td>...</td>\n",
       "      <td>...</td>\n",
       "      <td>...</td>\n",
       "      <td>...</td>\n",
       "    </tr>\n",
       "    <tr>\n",
       "      <td>90023</td>\n",
       "      <td>#PresidentElectBiden : will incoming #Biden ad...</td>\n",
       "      <td>['presidentelectbiden', 'incoming', 'biden', '...</td>\n",
       "      <td>neutral</td>\n",
       "    </tr>\n",
       "    <tr>\n",
       "      <td>90024</td>\n",
       "      <td>Went to the store and bought myself a box of t...</td>\n",
       "      <td>['went', 'store', 'bought', 'box', 'tissue', '...</td>\n",
       "      <td>positive</td>\n",
       "    </tr>\n",
       "    <tr>\n",
       "      <td>90025</td>\n",
       "      <td>Now can someone come over here &amp;amp; get this?...</td>\n",
       "      <td>['someone', 'come', 'amp', 'get', '2020electio...</td>\n",
       "      <td>negative</td>\n",
       "    </tr>\n",
       "    <tr>\n",
       "      <td>90026</td>\n",
       "      <td>Carl Gustav Jung about the Great Danger\\n\\n#Me...</td>\n",
       "      <td>['carl', 'gustav', 'jung', 'great', 'danger', ...</td>\n",
       "      <td>neutral</td>\n",
       "    </tr>\n",
       "    <tr>\n",
       "      <td>90027</td>\n",
       "      <td>It is ok to cry....\\n\\nIt helps let go of buil...</td>\n",
       "      <td>['ok', 'cry', 'help', 'let', 'go', 'built', 'e...</td>\n",
       "      <td>neutral</td>\n",
       "    </tr>\n",
       "  </tbody>\n",
       "</table>\n",
       "<p>90028 rows × 3 columns</p>\n",
       "</div>"
      ],
      "text/plain": [
       "                                                  Tweets  \\\n",
       "0      The #COVID19 health crisis has prompted an exp...   \n",
       "1      AT&amp;T Supports Families &amp; Educators Dur...   \n",
       "2      RT @reach4kids: #REACH4kids Harlan Gephart, MD...   \n",
       "3      RT @WPCmeetings: Scan the barcode and register...   \n",
       "4      Scan the barcode and register for the internat...   \n",
       "...                                                  ...   \n",
       "90023  #PresidentElectBiden : will incoming #Biden ad...   \n",
       "90024  Went to the store and bought myself a box of t...   \n",
       "90025  Now can someone come over here &amp; get this?...   \n",
       "90026  Carl Gustav Jung about the Great Danger\\n\\n#Me...   \n",
       "90027  It is ok to cry....\\n\\nIt helps let go of buil...   \n",
       "\n",
       "                                       preprocessed_data sentiment  \n",
       "0      ['covid19', 'health', 'crisis', 'prompted', 'e...  negative  \n",
       "1      ['atampt', 'support', 'family', 'amp', 'educat...  positive  \n",
       "2      ['reach4kids', 'reach4kids', 'harlan', 'gephar...  negative  \n",
       "3      ['wpcmeetings', 'scan', 'barcode', 'register',...  negative  \n",
       "4      ['scan', 'barcode', 'register', 'international...  negative  \n",
       "...                                                  ...       ...  \n",
       "90023  ['presidentelectbiden', 'incoming', 'biden', '...   neutral  \n",
       "90024  ['went', 'store', 'bought', 'box', 'tissue', '...  positive  \n",
       "90025  ['someone', 'come', 'amp', 'get', '2020electio...  negative  \n",
       "90026  ['carl', 'gustav', 'jung', 'great', 'danger', ...   neutral  \n",
       "90027  ['ok', 'cry', 'help', 'let', 'go', 'built', 'e...   neutral  \n",
       "\n",
       "[90028 rows x 3 columns]"
      ]
     },
     "execution_count": 16,
     "metadata": {},
     "output_type": "execute_result"
    }
   ],
   "source": [
    "sentiment_results"
   ]
  },
  {
   "cell_type": "code",
   "execution_count": 17,
   "metadata": {},
   "outputs": [
    {
     "data": {
      "text/plain": [
       "90028"
      ]
     },
     "execution_count": 17,
     "metadata": {},
     "output_type": "execute_result"
    }
   ],
   "source": [
    "\n",
    "len(sentiment_results)"
   ]
  },
  {
   "cell_type": "markdown",
   "metadata": {},
   "source": [
    "### counting total positive negative and neutral "
   ]
  },
  {
   "cell_type": "code",
   "execution_count": 18,
   "metadata": {},
   "outputs": [
    {
     "data": {
      "text/html": [
       "<div>\n",
       "<style scoped>\n",
       "    .dataframe tbody tr th:only-of-type {\n",
       "        vertical-align: middle;\n",
       "    }\n",
       "\n",
       "    .dataframe tbody tr th {\n",
       "        vertical-align: top;\n",
       "    }\n",
       "\n",
       "    .dataframe thead th {\n",
       "        text-align: right;\n",
       "    }\n",
       "</style>\n",
       "<table border=\"1\" class=\"dataframe\">\n",
       "  <thead>\n",
       "    <tr style=\"text-align: right;\">\n",
       "      <th></th>\n",
       "      <th>Tweets</th>\n",
       "      <th>preprocessed_data</th>\n",
       "    </tr>\n",
       "    <tr>\n",
       "      <th>sentiment</th>\n",
       "      <th></th>\n",
       "      <th></th>\n",
       "    </tr>\n",
       "  </thead>\n",
       "  <tbody>\n",
       "    <tr>\n",
       "      <td>negative</td>\n",
       "      <td>46142</td>\n",
       "      <td>46142</td>\n",
       "    </tr>\n",
       "    <tr>\n",
       "      <td>neutral</td>\n",
       "      <td>8521</td>\n",
       "      <td>8521</td>\n",
       "    </tr>\n",
       "    <tr>\n",
       "      <td>positive</td>\n",
       "      <td>35365</td>\n",
       "      <td>35365</td>\n",
       "    </tr>\n",
       "  </tbody>\n",
       "</table>\n",
       "</div>"
      ],
      "text/plain": [
       "           Tweets  preprocessed_data\n",
       "sentiment                           \n",
       "negative    46142              46142\n",
       "neutral      8521               8521\n",
       "positive    35365              35365"
      ]
     },
     "execution_count": 18,
     "metadata": {},
     "output_type": "execute_result"
    }
   ],
   "source": [
    "sentiment_results.groupby([\"sentiment\"]).count()"
   ]
  },
  {
   "cell_type": "markdown",
   "metadata": {},
   "source": [
    "## filter only for positive and negative ignore neutral"
   ]
  },
  {
   "cell_type": "code",
   "execution_count": 19,
   "metadata": {},
   "outputs": [],
   "source": [
    "sentiment_results_pn = sentiment_results[sentiment_results[\"sentiment\"].isin([\"positive\",\"negative\"])]"
   ]
  },
  {
   "cell_type": "code",
   "execution_count": 20,
   "metadata": {},
   "outputs": [
    {
     "data": {
      "text/html": [
       "<div>\n",
       "<style scoped>\n",
       "    .dataframe tbody tr th:only-of-type {\n",
       "        vertical-align: middle;\n",
       "    }\n",
       "\n",
       "    .dataframe tbody tr th {\n",
       "        vertical-align: top;\n",
       "    }\n",
       "\n",
       "    .dataframe thead th {\n",
       "        text-align: right;\n",
       "    }\n",
       "</style>\n",
       "<table border=\"1\" class=\"dataframe\">\n",
       "  <thead>\n",
       "    <tr style=\"text-align: right;\">\n",
       "      <th></th>\n",
       "      <th>Tweets</th>\n",
       "      <th>preprocessed_data</th>\n",
       "      <th>sentiment</th>\n",
       "    </tr>\n",
       "  </thead>\n",
       "  <tbody>\n",
       "    <tr>\n",
       "      <td>0</td>\n",
       "      <td>The #COVID19 health crisis has prompted an exp...</td>\n",
       "      <td>['covid19', 'health', 'crisis', 'prompted', 'e...</td>\n",
       "      <td>negative</td>\n",
       "    </tr>\n",
       "    <tr>\n",
       "      <td>1</td>\n",
       "      <td>AT&amp;amp;T Supports Families &amp;amp; Educators Dur...</td>\n",
       "      <td>['atampt', 'support', 'family', 'amp', 'educat...</td>\n",
       "      <td>positive</td>\n",
       "    </tr>\n",
       "    <tr>\n",
       "      <td>2</td>\n",
       "      <td>RT @reach4kids: #REACH4kids Harlan Gephart, MD...</td>\n",
       "      <td>['reach4kids', 'reach4kids', 'harlan', 'gephar...</td>\n",
       "      <td>negative</td>\n",
       "    </tr>\n",
       "    <tr>\n",
       "      <td>3</td>\n",
       "      <td>RT @WPCmeetings: Scan the barcode and register...</td>\n",
       "      <td>['wpcmeetings', 'scan', 'barcode', 'register',...</td>\n",
       "      <td>negative</td>\n",
       "    </tr>\n",
       "    <tr>\n",
       "      <td>4</td>\n",
       "      <td>Scan the barcode and register for the internat...</td>\n",
       "      <td>['scan', 'barcode', 'register', 'international...</td>\n",
       "      <td>negative</td>\n",
       "    </tr>\n",
       "    <tr>\n",
       "      <td>...</td>\n",
       "      <td>...</td>\n",
       "      <td>...</td>\n",
       "      <td>...</td>\n",
       "    </tr>\n",
       "    <tr>\n",
       "      <td>90019</td>\n",
       "      <td>Isolation and limited activities during #Coron...</td>\n",
       "      <td>['isolation', 'limited', 'activity', 'coronavi...</td>\n",
       "      <td>negative</td>\n",
       "    </tr>\n",
       "    <tr>\n",
       "      <td>90021</td>\n",
       "      <td>Please remember our kids suffer during lockdow...</td>\n",
       "      <td>['please', 'remember', 'kid', 'suffer', 'lockd...</td>\n",
       "      <td>positive</td>\n",
       "    </tr>\n",
       "    <tr>\n",
       "      <td>90022</td>\n",
       "      <td>#DeathAnxiety #Thanatophobia\\n#OCD #depression...</td>\n",
       "      <td>['deathanxiety', 'thanatophobia', 'ocd', 'depr...</td>\n",
       "      <td>negative</td>\n",
       "    </tr>\n",
       "    <tr>\n",
       "      <td>90024</td>\n",
       "      <td>Went to the store and bought myself a box of t...</td>\n",
       "      <td>['went', 'store', 'bought', 'box', 'tissue', '...</td>\n",
       "      <td>positive</td>\n",
       "    </tr>\n",
       "    <tr>\n",
       "      <td>90025</td>\n",
       "      <td>Now can someone come over here &amp;amp; get this?...</td>\n",
       "      <td>['someone', 'come', 'amp', 'get', '2020electio...</td>\n",
       "      <td>negative</td>\n",
       "    </tr>\n",
       "  </tbody>\n",
       "</table>\n",
       "<p>81507 rows × 3 columns</p>\n",
       "</div>"
      ],
      "text/plain": [
       "                                                  Tweets  \\\n",
       "0      The #COVID19 health crisis has prompted an exp...   \n",
       "1      AT&amp;T Supports Families &amp; Educators Dur...   \n",
       "2      RT @reach4kids: #REACH4kids Harlan Gephart, MD...   \n",
       "3      RT @WPCmeetings: Scan the barcode and register...   \n",
       "4      Scan the barcode and register for the internat...   \n",
       "...                                                  ...   \n",
       "90019  Isolation and limited activities during #Coron...   \n",
       "90021  Please remember our kids suffer during lockdow...   \n",
       "90022  #DeathAnxiety #Thanatophobia\\n#OCD #depression...   \n",
       "90024  Went to the store and bought myself a box of t...   \n",
       "90025  Now can someone come over here &amp; get this?...   \n",
       "\n",
       "                                       preprocessed_data sentiment  \n",
       "0      ['covid19', 'health', 'crisis', 'prompted', 'e...  negative  \n",
       "1      ['atampt', 'support', 'family', 'amp', 'educat...  positive  \n",
       "2      ['reach4kids', 'reach4kids', 'harlan', 'gephar...  negative  \n",
       "3      ['wpcmeetings', 'scan', 'barcode', 'register',...  negative  \n",
       "4      ['scan', 'barcode', 'register', 'international...  negative  \n",
       "...                                                  ...       ...  \n",
       "90019  ['isolation', 'limited', 'activity', 'coronavi...  negative  \n",
       "90021  ['please', 'remember', 'kid', 'suffer', 'lockd...  positive  \n",
       "90022  ['deathanxiety', 'thanatophobia', 'ocd', 'depr...  negative  \n",
       "90024  ['went', 'store', 'bought', 'box', 'tissue', '...  positive  \n",
       "90025  ['someone', 'come', 'amp', 'get', '2020electio...  negative  \n",
       "\n",
       "[81507 rows x 3 columns]"
      ]
     },
     "execution_count": 20,
     "metadata": {},
     "output_type": "execute_result"
    }
   ],
   "source": [
    "sentiment_results_pn"
   ]
  },
  {
   "cell_type": "markdown",
   "metadata": {},
   "source": [
    "### Convert the categorical column to numerical column "
   ]
  },
  {
   "cell_type": "code",
   "execution_count": 21,
   "metadata": {},
   "outputs": [],
   "source": [
    "sentiment_results_pn[\"label\"] = np.where(sentiment_results_pn['sentiment']=='positive', 0,1)"
   ]
  },
  {
   "cell_type": "code",
   "execution_count": 22,
   "metadata": {},
   "outputs": [
    {
     "data": {
      "text/plain": [
       "array([1, 0, 1, ..., 1, 0, 1])"
      ]
     },
     "execution_count": 22,
     "metadata": {},
     "output_type": "execute_result"
    }
   ],
   "source": [
    "y = np.array(sentiment_results_pn[\"label\"])\n",
    "y"
   ]
  },
  {
   "cell_type": "code",
   "execution_count": 23,
   "metadata": {},
   "outputs": [
    {
     "data": {
      "text/html": [
       "<div>\n",
       "<style scoped>\n",
       "    .dataframe tbody tr th:only-of-type {\n",
       "        vertical-align: middle;\n",
       "    }\n",
       "\n",
       "    .dataframe tbody tr th {\n",
       "        vertical-align: top;\n",
       "    }\n",
       "\n",
       "    .dataframe thead th {\n",
       "        text-align: right;\n",
       "    }\n",
       "</style>\n",
       "<table border=\"1\" class=\"dataframe\">\n",
       "  <thead>\n",
       "    <tr style=\"text-align: right;\">\n",
       "      <th></th>\n",
       "      <th>Tweets</th>\n",
       "      <th>preprocessed_data</th>\n",
       "      <th>sentiment</th>\n",
       "      <th>label</th>\n",
       "    </tr>\n",
       "  </thead>\n",
       "  <tbody>\n",
       "    <tr>\n",
       "      <td>0</td>\n",
       "      <td>The #COVID19 health crisis has prompted an exp...</td>\n",
       "      <td>['covid19', 'health', 'crisis', 'prompted', 'e...</td>\n",
       "      <td>negative</td>\n",
       "      <td>1</td>\n",
       "    </tr>\n",
       "    <tr>\n",
       "      <td>1</td>\n",
       "      <td>AT&amp;amp;T Supports Families &amp;amp; Educators Dur...</td>\n",
       "      <td>['atampt', 'support', 'family', 'amp', 'educat...</td>\n",
       "      <td>positive</td>\n",
       "      <td>0</td>\n",
       "    </tr>\n",
       "    <tr>\n",
       "      <td>2</td>\n",
       "      <td>RT @reach4kids: #REACH4kids Harlan Gephart, MD...</td>\n",
       "      <td>['reach4kids', 'reach4kids', 'harlan', 'gephar...</td>\n",
       "      <td>negative</td>\n",
       "      <td>1</td>\n",
       "    </tr>\n",
       "    <tr>\n",
       "      <td>3</td>\n",
       "      <td>RT @WPCmeetings: Scan the barcode and register...</td>\n",
       "      <td>['wpcmeetings', 'scan', 'barcode', 'register',...</td>\n",
       "      <td>negative</td>\n",
       "      <td>1</td>\n",
       "    </tr>\n",
       "    <tr>\n",
       "      <td>4</td>\n",
       "      <td>Scan the barcode and register for the internat...</td>\n",
       "      <td>['scan', 'barcode', 'register', 'international...</td>\n",
       "      <td>negative</td>\n",
       "      <td>1</td>\n",
       "    </tr>\n",
       "    <tr>\n",
       "      <td>...</td>\n",
       "      <td>...</td>\n",
       "      <td>...</td>\n",
       "      <td>...</td>\n",
       "      <td>...</td>\n",
       "    </tr>\n",
       "    <tr>\n",
       "      <td>90019</td>\n",
       "      <td>Isolation and limited activities during #Coron...</td>\n",
       "      <td>['isolation', 'limited', 'activity', 'coronavi...</td>\n",
       "      <td>negative</td>\n",
       "      <td>1</td>\n",
       "    </tr>\n",
       "    <tr>\n",
       "      <td>90021</td>\n",
       "      <td>Please remember our kids suffer during lockdow...</td>\n",
       "      <td>['please', 'remember', 'kid', 'suffer', 'lockd...</td>\n",
       "      <td>positive</td>\n",
       "      <td>0</td>\n",
       "    </tr>\n",
       "    <tr>\n",
       "      <td>90022</td>\n",
       "      <td>#DeathAnxiety #Thanatophobia\\n#OCD #depression...</td>\n",
       "      <td>['deathanxiety', 'thanatophobia', 'ocd', 'depr...</td>\n",
       "      <td>negative</td>\n",
       "      <td>1</td>\n",
       "    </tr>\n",
       "    <tr>\n",
       "      <td>90024</td>\n",
       "      <td>Went to the store and bought myself a box of t...</td>\n",
       "      <td>['went', 'store', 'bought', 'box', 'tissue', '...</td>\n",
       "      <td>positive</td>\n",
       "      <td>0</td>\n",
       "    </tr>\n",
       "    <tr>\n",
       "      <td>90025</td>\n",
       "      <td>Now can someone come over here &amp;amp; get this?...</td>\n",
       "      <td>['someone', 'come', 'amp', 'get', '2020electio...</td>\n",
       "      <td>negative</td>\n",
       "      <td>1</td>\n",
       "    </tr>\n",
       "  </tbody>\n",
       "</table>\n",
       "<p>81507 rows × 4 columns</p>\n",
       "</div>"
      ],
      "text/plain": [
       "                                                  Tweets  \\\n",
       "0      The #COVID19 health crisis has prompted an exp...   \n",
       "1      AT&amp;T Supports Families &amp; Educators Dur...   \n",
       "2      RT @reach4kids: #REACH4kids Harlan Gephart, MD...   \n",
       "3      RT @WPCmeetings: Scan the barcode and register...   \n",
       "4      Scan the barcode and register for the internat...   \n",
       "...                                                  ...   \n",
       "90019  Isolation and limited activities during #Coron...   \n",
       "90021  Please remember our kids suffer during lockdow...   \n",
       "90022  #DeathAnxiety #Thanatophobia\\n#OCD #depression...   \n",
       "90024  Went to the store and bought myself a box of t...   \n",
       "90025  Now can someone come over here &amp; get this?...   \n",
       "\n",
       "                                       preprocessed_data sentiment  label  \n",
       "0      ['covid19', 'health', 'crisis', 'prompted', 'e...  negative      1  \n",
       "1      ['atampt', 'support', 'family', 'amp', 'educat...  positive      0  \n",
       "2      ['reach4kids', 'reach4kids', 'harlan', 'gephar...  negative      1  \n",
       "3      ['wpcmeetings', 'scan', 'barcode', 'register',...  negative      1  \n",
       "4      ['scan', 'barcode', 'register', 'international...  negative      1  \n",
       "...                                                  ...       ...    ...  \n",
       "90019  ['isolation', 'limited', 'activity', 'coronavi...  negative      1  \n",
       "90021  ['please', 'remember', 'kid', 'suffer', 'lockd...  positive      0  \n",
       "90022  ['deathanxiety', 'thanatophobia', 'ocd', 'depr...  negative      1  \n",
       "90024  ['went', 'store', 'bought', 'box', 'tissue', '...  positive      0  \n",
       "90025  ['someone', 'come', 'amp', 'get', '2020electio...  negative      1  \n",
       "\n",
       "[81507 rows x 4 columns]"
      ]
     },
     "execution_count": 23,
     "metadata": {},
     "output_type": "execute_result"
    }
   ],
   "source": [
    "sentiment_results_pn"
   ]
  },
  {
   "cell_type": "code",
   "execution_count": 24,
   "metadata": {},
   "outputs": [],
   "source": [
    "only_depression = sentiment_results_pn[sentiment_results_pn[\"label\"] == 1]"
   ]
  },
  {
   "cell_type": "code",
   "execution_count": 25,
   "metadata": {},
   "outputs": [
    {
     "data": {
      "text/plain": [
       "46142"
      ]
     },
     "execution_count": 25,
     "metadata": {},
     "output_type": "execute_result"
    }
   ],
   "source": [
    "len(only_depression[\"Tweets\"])"
   ]
  },
  {
   "cell_type": "markdown",
   "metadata": {},
   "source": [
    "## Doing topic modeling on depressed dataset to get the most popular topics "
   ]
  },
  {
   "cell_type": "code",
   "execution_count": null,
   "metadata": {},
   "outputs": [],
   "source": [
    "#convert the pandas dataframe to list of strings\n",
    "only_depression_list = []\n",
    "for x in only_depression[\"Tweets\"]:\n",
    "    only_depression_list.append(str(x))\n"
   ]
  },
  {
   "cell_type": "code",
   "execution_count": null,
   "metadata": {},
   "outputs": [],
   "source": [
    "# Remove new line characters\n",
    "data_1 = [re.sub('\\s+', ' ', sent) for sent in only_depression_list]\n",
    "\n",
    "# remove the \\n\n",
    "data_2 = [re.sub(\"\\\\n\", \"\", sent) for sent in data_1]\n",
    "\n",
    "# Remove distracting single quotes\n",
    "data = [re.sub(\"\\'\", \"\", sent) for sent in data_2]\n",
    "\n",
    "\n",
    "print(data[:1])"
   ]
  },
  {
   "cell_type": "code",
   "execution_count": null,
   "metadata": {},
   "outputs": [],
   "source": [
    "# tokenize words and clean up text\n",
    "def sent_to_words(sentences):\n",
    "    for sentence in sentences:\n",
    "        yield(gensim.utils.simple_preprocess(str(sentence), deacc=True))  # deacc=True removes punctuations\n",
    "\n"
   ]
  },
  {
   "cell_type": "code",
   "execution_count": null,
   "metadata": {},
   "outputs": [],
   "source": [
    "data_words = list(sent_to_words(data))\n",
    "\n",
    "print(data_words[:1])"
   ]
  },
  {
   "cell_type": "code",
   "execution_count": null,
   "metadata": {},
   "outputs": [],
   "source": [
    "# Build the bigram and trigram models\n",
    "bigram = gensim.models.Phrases(data_words, min_count=5, threshold=100) # higher threshold fewer phrases.\n",
    "trigram = gensim.models.Phrases(bigram[data_words], threshold=100)  \n",
    "\n",
    "# Faster way to get a sentence clubbed as a trigram/bigram\n",
    "bigram_mod = gensim.models.phrases.Phraser(bigram)\n",
    "trigram_mod = gensim.models.phrases.Phraser(trigram)\n",
    "\n"
   ]
  },
  {
   "cell_type": "code",
   "execution_count": null,
   "metadata": {},
   "outputs": [],
   "source": [
    "# functions to remove stop words\n",
    "# Define functions for stopwords, bigrams, trigrams and lemmatization\n",
    "def remove_stopwords(texts):\n",
    "    return [[word for word in simple_preprocess(str(doc)) if word not in stop_words] for doc in texts]\n",
    "\n",
    "def make_bigrams(texts):\n",
    "    return [bigram_mod[doc] for doc in texts]\n",
    "\n",
    "def make_trigrams(texts):\n",
    "    return [trigram_mod[bigram_mod[doc]] for doc in texts]\n",
    "\n",
    "def lemmatization(texts, allowed_postags=['NOUN', 'ADJ', 'VERB', 'ADV']):\n",
    "    \"\"\"https://spacy.io/api/annotation\"\"\"\n",
    "    texts_out = []\n",
    "    for sent in texts:\n",
    "        doc = nlp(\" \".join(sent)) \n",
    "        texts_out.append([token.lemma_ for token in doc if token.pos_ in allowed_postags])\n",
    "    return texts_out"
   ]
  },
  {
   "cell_type": "code",
   "execution_count": null,
   "metadata": {},
   "outputs": [],
   "source": [
    "# Remove Stop Words\n",
    "data_words_nostops = remove_stopwords(data_words)\n",
    "print(\"data_words_nostops\")\n",
    "print(data_words_nostops[:1])\n",
    "# Form Bigrams\n",
    "data_words_bigrams = make_trigrams(data_words_nostops)\n",
    "print(\"data_words_bigrams\")\n",
    "print(data_words_bigrams[:1])\n",
    "# Initialize spacy 'en' model, keeping only tagger component (for efficiency)\n",
    "# python3 -m spacy download en\n",
    "nlp = spacy.load('en_core_web_sm', disable=['parser', 'ner'])\n",
    "\n",
    "# Do lemmatization keeping only noun, adj, vb, adv\n",
    "data_lemmatized = lemmatization(data_words_bigrams, allowed_postags=['NOUN', 'ADJ', 'VERB', 'ADV'])\n",
    "\n",
    "print(data_lemmatized[:1])"
   ]
  },
  {
   "cell_type": "code",
   "execution_count": null,
   "metadata": {},
   "outputs": [],
   "source": [
    "# Create Dictionary\n",
    "id2word = corpora.Dictionary(data_lemmatized)\n",
    "print(\"id2word\")\n",
    "print(id2word)\n",
    "# Create Corpus\n",
    "texts = data_lemmatized\n",
    "\n",
    "# Term Document Frequency\n",
    "corpus = [id2word.doc2bow(text) for text in texts]\n",
    "\n",
    "# View\n",
    "print(corpus[:1])\n"
   ]
  },
  {
   "cell_type": "code",
   "execution_count": null,
   "metadata": {},
   "outputs": [],
   "source": [
    "# Build LDA model\n",
    "lda_model = gensim.models.ldamodel.LdaModel(corpus=corpus,\n",
    "                                           id2word=id2word,\n",
    "                                           num_topics=5, \n",
    "                                           random_state=100,\n",
    "                                           update_every=1,\n",
    "                                           chunksize=100,\n",
    "                                           passes=10,\n",
    "                                           alpha='auto',\n",
    "                                           per_word_topics=True)"
   ]
  },
  {
   "cell_type": "code",
   "execution_count": null,
   "metadata": {},
   "outputs": [],
   "source": [
    "# Print the Keyword in the 10 topics\n",
    "pprint(lda_model.print_topics())\n",
    "doc_lda = lda_model[corpus]"
   ]
  },
  {
   "cell_type": "code",
   "execution_count": null,
   "metadata": {},
   "outputs": [],
   "source": [
    "lda_model.print_topics()"
   ]
  },
  {
   "cell_type": "code",
   "execution_count": null,
   "metadata": {},
   "outputs": [],
   "source": [
    "# Compute Perplexity\n",
    "print('\\nPerplexity: ', lda_model.log_perplexity(corpus))  # a measure of how good the model is. lower the better.\n",
    "\n",
    "# Compute Coherence Score\n",
    "coherence_model_lda = CoherenceModel(model=lda_model, texts=data_lemmatized, dictionary=id2word, coherence='c_v')\n",
    "coherence_lda = coherence_model_lda.get_coherence()\n",
    "print('\\nCoherence Score: ', coherence_lda)"
   ]
  },
  {
   "cell_type": "code",
   "execution_count": null,
   "metadata": {},
   "outputs": [],
   "source": [
    "# Visualize the topics\n",
    "pyLDAvis.enable_notebook()\n",
    "vis = pyLDAvis.gensim.prepare(lda_model, corpus, id2word)\n"
   ]
  },
  {
   "cell_type": "code",
   "execution_count": null,
   "metadata": {},
   "outputs": [],
   "source": [
    "vis"
   ]
  },
  {
   "cell_type": "markdown",
   "metadata": {},
   "source": [
    "## graphs"
   ]
  },
  {
   "cell_type": "markdown",
   "metadata": {},
   "source": [
    "### https://towardsdatascience.com/text-analysis-basics-in-python-443282942ec5"
   ]
  },
  {
   "cell_type": "markdown",
   "metadata": {},
   "source": [
    "### Function name: get_top_n_words\n",
    "     * This function is used get top n words"
   ]
  },
  {
   "cell_type": "code",
   "execution_count": null,
   "metadata": {},
   "outputs": [],
   "source": [
    "def get_top_n_words(corpus, n=None):\n",
    "    vec = CountVectorizer(stop_words = 'english').fit(corpus)\n",
    "    bag_of_words = vec.transform(corpus)\n",
    "    sum_words = bag_of_words.sum(axis=0) \n",
    "    words_freq = [(word, sum_words[0, idx]) for word, idx in vec.vocabulary_.items()]\n",
    "    words_freq =sorted(words_freq, key = lambda x: x[1], reverse=True)\n",
    "    return words_freq[:n]\n"
   ]
  },
  {
   "cell_type": "markdown",
   "metadata": {},
   "source": [
    "## Creating Biagrams and Triagrams\n",
    "### Biagrams are nothing but the mostly commonly occuring two word combination\n",
    "### Triagrams are nothing but the mostly commonly occuring three word combinations"
   ]
  },
  {
   "cell_type": "code",
   "execution_count": null,
   "metadata": {},
   "outputs": [],
   "source": [
    "common_words = get_top_n_words(only_depression['preprocessed_data'], 20)\n",
    "for word, freq in common_words:\n",
    "    print(word, freq)\n"
   ]
  },
  {
   "cell_type": "code",
   "execution_count": null,
   "metadata": {},
   "outputs": [],
   "source": [
    "# cufflinks package is used to create plots\n",
    "cf.go_offline()\n",
    "cf.set_config_file(offline=False, world_readable=True)"
   ]
  },
  {
   "cell_type": "code",
   "execution_count": null,
   "metadata": {},
   "outputs": [],
   "source": [
    "df2 = pd.DataFrame(common_words, columns = ['Tweet' , 'count'])\n",
    "df2.groupby('Tweet').sum()['count'].sort_values(ascending=False).iplot(\n",
    "    kind='bar', yTitle='Count', linecolor='black', title='Top 20 words in Tweets after removing stop words')\n"
   ]
  },
  {
   "cell_type": "markdown",
   "metadata": {},
   "source": [
    "### Function name: get_top_n_bigram\n",
    "    * This function is used to get the top n bigram words\n"
   ]
  },
  {
   "cell_type": "code",
   "execution_count": null,
   "metadata": {},
   "outputs": [],
   "source": [
    "def get_top_n_bigram(corpus, n=None):\n",
    "    vec = CountVectorizer(ngram_range=(2, 2), stop_words='english').fit(corpus)\n",
    "    bag_of_words = vec.transform(corpus)\n",
    "    sum_words = bag_of_words.sum(axis=0) \n",
    "    words_freq = [(word, sum_words[0, idx]) for word, idx in vec.vocabulary_.items()]\n",
    "    words_freq =sorted(words_freq, key = lambda x: x[1], reverse=True)\n",
    "    return words_freq[:n]\n"
   ]
  },
  {
   "cell_type": "code",
   "execution_count": null,
   "metadata": {},
   "outputs": [],
   "source": [
    "common_words_bi = get_top_n_bigram(only_depression['preprocessed_data'], 20)\n",
    "for word, freq in common_words_bi:\n",
    "    print(word, freq)\n"
   ]
  },
  {
   "cell_type": "code",
   "execution_count": null,
   "metadata": {},
   "outputs": [],
   "source": [
    "df4 = pd.DataFrame(common_words_bi, columns = ['Tweet' , 'count'])\n",
    "df4.groupby('Tweet').sum()['count'].sort_values(ascending=False).iplot(\n",
    "    kind='bar', xTitle= \"Bigrams\",yTitle='Count',theme=\"white\", linecolor='black',colors=['blue'], title='Top 20 bigrams of Tweets')\n"
   ]
  },
  {
   "cell_type": "markdown",
   "metadata": {},
   "source": [
    "### Function name: get_top_n_trigram\n",
    "    * This function is used to get the top n triagram words"
   ]
  },
  {
   "cell_type": "code",
   "execution_count": null,
   "metadata": {},
   "outputs": [],
   "source": [
    "def get_top_n_trigram(corpus, n=None):\n",
    "    vec = CountVectorizer(ngram_range=(3, 3)).fit(corpus)\n",
    "    bag_of_words = vec.transform(corpus)\n",
    "    sum_words = bag_of_words.sum(axis=0) \n",
    "    words_freq = [(word, sum_words[0, idx]) for word, idx in vec.vocabulary_.items()]\n",
    "    words_freq =sorted(words_freq, key = lambda x: x[1], reverse=True)\n",
    "    return words_freq[:n]"
   ]
  },
  {
   "cell_type": "code",
   "execution_count": null,
   "metadata": {},
   "outputs": [],
   "source": [
    "common_words2 = get_top_n_trigram(only_depression['preprocessed_data'], 20)\n",
    "for word, freq in common_words2:\n",
    "    print(word, freq)\n"
   ]
  },
  {
   "cell_type": "code",
   "execution_count": null,
   "metadata": {},
   "outputs": [],
   "source": [
    "df5 = pd.DataFrame(common_words2, columns = ['Tweets' , 'count'])\n",
    "df5.groupby('Tweets').sum()['count'].sort_values(ascending=False).iplot(\n",
    "    kind='bar',xTitle= \"Trigrams\", yTitle='Count', theme=\"white\", linecolor='black',colors=['blue'], title='Top 20 trigrams of Tweets')"
   ]
  },
  {
   "cell_type": "markdown",
   "metadata": {},
   "source": [
    "## CLASSIFICATION"
   ]
  },
  {
   "cell_type": "markdown",
   "metadata": {},
   "source": [
    "### Step 1: preprocessing\n",
    "### step 2: Feature engineering \n",
    "Feature ENgineering is converting the token words into numbers which is more convinient to use in classification models\n",
    "            There are two methods\n",
    "                * bagOfwords (uses countVectorizer) - in this technique all words in all documents are formed into a bag of words, then for each document wa vector is created by marking 1 in places where the word is present and 0 when apsent \n",
    "                we can create a vecor for each document\n",
    "                * TFIDF (uses tfidfVectorizer) In this method we find the term frequency which means the number of times a particular word occurs in a document and inverse document frequency which is the number of documents which contain that word\n",
    "    \n",
    "                        "
   ]
  },
  {
   "cell_type": "markdown",
   "metadata": {},
   "source": [
    "### In this project we use both countVector and TFIDF for classification and in the end compare the classification results of both methods"
   ]
  },
  {
   "cell_type": "markdown",
   "metadata": {},
   "source": [
    "## countVectorizer"
   ]
  },
  {
   "cell_type": "code",
   "execution_count": 26,
   "metadata": {},
   "outputs": [],
   "source": [
    "vectorizer = CountVectorizer(min_df=5,max_df=0.85,stop_words=stopwords.words('english'))\n",
    "Sentiment_Countvector = vectorizer.fit_transform(sentiment_results_pn.preprocessed_data)\n"
   ]
  },
  {
   "cell_type": "code",
   "execution_count": 27,
   "metadata": {},
   "outputs": [
    {
     "data": {
      "text/plain": [
       "(81507, 13250)"
      ]
     },
     "execution_count": 27,
     "metadata": {},
     "output_type": "execute_result"
    }
   ],
   "source": [
    "Sentiment_Countvector.shape"
   ]
  },
  {
   "cell_type": "markdown",
   "metadata": {},
   "source": [
    "### split our dataset to train and test "
   ]
  },
  {
   "cell_type": "code",
   "execution_count": 28,
   "metadata": {},
   "outputs": [],
   "source": [
    "X1_train, X1_test, y1_train, y1_test = train_test_split(Sentiment_Countvector, y, test_size=0.2, random_state=0)"
   ]
  },
  {
   "cell_type": "markdown",
   "metadata": {},
   "source": [
    "## TFIDF"
   ]
  },
  {
   "cell_type": "code",
   "execution_count": 29,
   "metadata": {},
   "outputs": [],
   "source": [
    "document = sentiment_results_pn[\"preprocessed_data\"]#news_df['clean_doc']\n",
    "tfidfconverter = TfidfVectorizer( min_df=5, max_df=0.85, stop_words=stopwords.words('english')) #max_features=1500,\n",
    "sentiment_TFIDF = tfidfconverter.fit_transform(sentiment_results_pn.preprocessed_data)#.toarray()\n"
   ]
  },
  {
   "cell_type": "code",
   "execution_count": 30,
   "metadata": {},
   "outputs": [
    {
     "data": {
      "text/plain": [
       "(81507, 13250)"
      ]
     },
     "execution_count": 30,
     "metadata": {},
     "output_type": "execute_result"
    }
   ],
   "source": [
    "sentiment_TFIDF.shape"
   ]
  },
  {
   "cell_type": "code",
   "execution_count": 31,
   "metadata": {},
   "outputs": [],
   "source": [
    "# split into train and test\n",
    "X2_train, X2_test, y2_train, y2_test = train_test_split(sentiment_TFIDF, y, test_size=0.2, random_state=0)"
   ]
  },
  {
   "cell_type": "markdown",
   "metadata": {},
   "source": [
    "## We have created an automatic process which runs all models linear regression, Naivfe bayes, Neural network, SVM, Random forest and decision tree classification algorithms one by one and create save the results  "
   ]
  },
  {
   "cell_type": "code",
   "execution_count": 32,
   "metadata": {},
   "outputs": [],
   "source": [
    "# create model objects\n",
    "model_object = {}\n",
    "model_object[\"LR\"] = LogisticRegression()\n",
    "model_object[\"NB\"] = naive_bayes.MultinomialNB()\n",
    "model_object[\"NN\"] = MLPClassifier(solver='lbfgs', alpha=1e-5,hidden_layer_sizes=(5, 2), random_state=1)\n",
    "model_object[\"DT\"] = DecisionTreeClassifier(max_depth = 10)\n",
    "model_object[\"SVM\"] = svm.SVC(C=1.0, kernel='linear', degree=3, gamma='auto')\n",
    "model_object[\"RF\"] = RandomForestClassifier()\n"
   ]
  },
  {
   "cell_type": "markdown",
   "metadata": {},
   "source": [
    "### Function name: evaluteMyModels\n",
    "    * This function is used to evaluate our model \n",
    "    This function calculates accuracy, precision, recall and f1score for each model"
   ]
  },
  {
   "cell_type": "code",
   "execution_count": 33,
   "metadata": {},
   "outputs": [],
   "source": [
    "def evaluteMyModels(test,predict):\n",
    "    accuracy = (accuracy_score(test, predict))*100\n",
    "    precision = (precision_score(test, predict))*100\n",
    "    recall = (recall_score(test, predict))*100\n",
    "    f1score = (f1_score(test, predict))*100\n",
    "    return accuracy, precision, recall, f1score"
   ]
  },
  {
   "cell_type": "markdown",
   "metadata": {},
   "source": [
    "### Function name: model_train_predict\n",
    "    * This function is used to run each model one by one and create and save the results"
   ]
  },
  {
   "cell_type": "code",
   "execution_count": 34,
   "metadata": {},
   "outputs": [
    {
     "data": {
      "text/plain": [
       "'C:\\\\Users\\\\hemal\\\\Desktop\\\\Masters\\\\SEM2\\\\SMDM\\\\Project\\\\Final_Project'"
      ]
     },
     "execution_count": 34,
     "metadata": {},
     "output_type": "execute_result"
    }
   ],
   "source": [
    "os.getcwd()"
   ]
  },
  {
   "cell_type": "code",
   "execution_count": 35,
   "metadata": {},
   "outputs": [],
   "source": [
    "def model_train_predict(name,X_train, y_train,X_test,y_test,outputpath):\n",
    "    namedict={\"LR\": \"LOGISTIC REGRESSION\", \"NB\": \"NAIVE BAYES\", \"SVM\" : \"SUPPORT VECTOR MACHINE\", \"NN\": \"NEURAL NETWORK\", \"DT\": \"DECISION TREE\", \"RF\": \"RANDOM FOREST\"}\n",
    "    my_model_dump = {}\n",
    "    print(\"############################################################################\")\n",
    "    print(\"Model name : {0}\".format(namedict[name]))\n",
    "    print(\"############################################################################\")\n",
    "    model = model_object[name]\n",
    "    model.fit(X_train, y_train)\n",
    "    prediction = model.predict(X_test)\n",
    "    score = model.score(X_test, y_test)\n",
    "    accuracy, precision, recall, f1score = evaluteMyModels(y_test,prediction)\n",
    "    print(\"MODEL EVALUATION\")\n",
    "    print(\"############################################################################\")\n",
    "    print(\"Accuracy : {0} \\nPrecision: {1} \\nRecall: {2} \\nF1 score: {3} \\n\".format(accuracy, precision, recall, f1score))\n",
    "    my_model_dump[name] = model\n",
    "    print(\"############################################################################\")\n",
    "    print(\"CLASSIFICATION REPORT\")\n",
    "    print(\"############################################################################\")\n",
    "    print(classification_report(y_test, prediction, target_names = ['Not-Depresssed', 'Depresssed']))\n",
    "    \n",
    "    print(\"############################################################################\")\n",
    "    print (\"CONFUSION MATRIX\")\n",
    "    print(\"############################################################################\")\n",
    "    \n",
    "    title = 'Confusion Matrix of ' + namedict[name]\n",
    "    ax = plot_confusion_matrix(model, X_test, y_test, display_labels = ['Not-Depresssed', 'Depresssed'], values_format = '.0f', cmap = 'viridis')\n",
    "    plt.title(title)\n",
    "    plt.savefig(outputpath + title + '.png')\n",
    "    plt.show()\n",
    "    print(\"############################################################################\")\n",
    "    \n",
    "    print('\\n'*3)\n",
    "    return [accuracy,precision, recall,f1score]"
   ]
  },
  {
   "cell_type": "markdown",
   "metadata": {},
   "source": [
    "## Classification using count vector method"
   ]
  },
  {
   "cell_type": "code",
   "execution_count": 36,
   "metadata": {
    "scrolled": false
   },
   "outputs": [
    {
     "name": "stdout",
     "output_type": "stream",
     "text": [
      "############################################################################\n",
      "Model name : LOGISTIC REGRESSION\n",
      "############################################################################\n"
     ]
    },
    {
     "name": "stderr",
     "output_type": "stream",
     "text": [
      "C:\\Users\\hemal\\Anaconda3\\lib\\site-packages\\sklearn\\linear_model\\_logistic.py:764: ConvergenceWarning:\n",
      "\n",
      "lbfgs failed to converge (status=1):\n",
      "STOP: TOTAL NO. of ITERATIONS REACHED LIMIT.\n",
      "\n",
      "Increase the number of iterations (max_iter) or scale the data as shown in:\n",
      "    https://scikit-learn.org/stable/modules/preprocessing.html\n",
      "Please also refer to the documentation for alternative solver options:\n",
      "    https://scikit-learn.org/stable/modules/linear_model.html#logistic-regression\n",
      "\n"
     ]
    },
    {
     "name": "stdout",
     "output_type": "stream",
     "text": [
      "MODEL EVALUATION\n",
      "############################################################################\n",
      "Accuracy : 94.62029198871305 \n",
      "Precision: 94.01071766312914 \n",
      "Recall: 96.68251566889994 \n",
      "F1 score: 95.32789941931703 \n",
      "\n",
      "############################################################################\n",
      "CLASSIFICATION REPORT\n",
      "############################################################################\n",
      "                precision    recall  f1-score   support\n",
      "\n",
      "Not-Depresssed       0.95      0.92      0.94      7048\n",
      "    Depresssed       0.94      0.97      0.95      9254\n",
      "\n",
      "      accuracy                           0.95     16302\n",
      "     macro avg       0.95      0.94      0.94     16302\n",
      "  weighted avg       0.95      0.95      0.95     16302\n",
      "\n",
      "############################################################################\n",
      "CONFUSION MATRIX\n",
      "############################################################################\n"
     ]
    },
    {
     "data": {
      "image/png": "[encoded data removed]",
      "text/plain": [
       "<Figure size 432x288 with 2 Axes>"
      ]
     },
     "metadata": {},
     "output_type": "display_data"
    },
    {
     "name": "stdout",
     "output_type": "stream",
     "text": [
      "############################################################################\n",
      "\n",
      "\n",
      "\n",
      "\n",
      "############################################################################\n",
      "Model name : NAIVE BAYES\n",
      "############################################################################\n",
      "MODEL EVALUATION\n",
      "############################################################################\n",
      "Accuracy : 86.45564961354435 \n",
      "Precision: 90.5221992178514 \n",
      "Recall: 85.04430516533391 \n",
      "F1 score: 87.69779362603076 \n",
      "\n",
      "############################################################################\n",
      "CLASSIFICATION REPORT\n",
      "############################################################################\n",
      "                precision    recall  f1-score   support\n",
      "\n",
      "Not-Depresssed       0.82      0.88      0.85      7048\n",
      "    Depresssed       0.91      0.85      0.88      9254\n",
      "\n",
      "      accuracy                           0.86     16302\n",
      "     macro avg       0.86      0.87      0.86     16302\n",
      "  weighted avg       0.87      0.86      0.87     16302\n",
      "\n",
      "############################################################################\n",
      "CONFUSION MATRIX\n",
      "############################################################################\n"
     ]
    },
    {
     "data": {
      "image/png": "[encoded data removed]",
      "text/plain": [
       "<Figure size 432x288 with 2 Axes>"
      ]
     },
     "metadata": {},
     "output_type": "display_data"
    },
    {
     "name": "stdout",
     "output_type": "stream",
     "text": [
      "############################################################################\n",
      "\n",
      "\n",
      "\n",
      "\n",
      "############################################################################\n",
      "Model name : NEURAL NETWORK\n",
      "############################################################################\n"
     ]
    },
    {
     "name": "stderr",
     "output_type": "stream",
     "text": [
      "C:\\Users\\hemal\\Anaconda3\\lib\\site-packages\\sklearn\\neural_network\\_multilayer_perceptron.py:471: ConvergenceWarning:\n",
      "\n",
      "lbfgs failed to converge (status=1):\n",
      "STOP: TOTAL NO. of ITERATIONS REACHED LIMIT.\n",
      "\n",
      "Increase the number of iterations (max_iter) or scale the data as shown in:\n",
      "    https://scikit-learn.org/stable/modules/preprocessing.html\n",
      "\n"
     ]
    },
    {
     "name": "stdout",
     "output_type": "stream",
     "text": [
      "MODEL EVALUATION\n",
      "############################################################################\n",
      "Accuracy : 94.65709728867624 \n",
      "Precision: 95.07473921927088 \n",
      "Recall: 95.53706505295008 \n",
      "F1 score: 95.30534145421225 \n",
      "\n",
      "############################################################################\n",
      "CLASSIFICATION REPORT\n",
      "############################################################################\n",
      "                precision    recall  f1-score   support\n",
      "\n",
      "Not-Depresssed       0.94      0.94      0.94      7048\n",
      "    Depresssed       0.95      0.96      0.95      9254\n",
      "\n",
      "      accuracy                           0.95     16302\n",
      "     macro avg       0.95      0.95      0.95     16302\n",
      "  weighted avg       0.95      0.95      0.95     16302\n",
      "\n",
      "############################################################################\n",
      "CONFUSION MATRIX\n",
      "############################################################################\n"
     ]
    },
    {
     "data": {
      "image/png": "[encoded data removed]",
      "text/plain": [
       "<Figure size 432x288 with 2 Axes>"
      ]
     },
     "metadata": {},
     "output_type": "display_data"
    },
    {
     "name": "stdout",
     "output_type": "stream",
     "text": [
      "############################################################################\n",
      "\n",
      "\n",
      "\n",
      "\n",
      "############################################################################\n",
      "Model name : DECISION TREE\n",
      "############################################################################\n",
      "MODEL EVALUATION\n",
      "############################################################################\n",
      "Accuracy : 71.21825542878175 \n",
      "Precision: 66.90130409010077 \n",
      "Recall: 97.56861897557812 \n",
      "F1 score: 79.37582417582418 \n",
      "\n",
      "############################################################################\n",
      "CLASSIFICATION REPORT\n",
      "############################################################################\n",
      "                precision    recall  f1-score   support\n",
      "\n",
      "Not-Depresssed       0.92      0.37      0.52      7048\n",
      "    Depresssed       0.67      0.98      0.79      9254\n",
      "\n",
      "      accuracy                           0.71     16302\n",
      "     macro avg       0.79      0.67      0.66     16302\n",
      "  weighted avg       0.78      0.71      0.68     16302\n",
      "\n",
      "############################################################################\n",
      "CONFUSION MATRIX\n",
      "############################################################################\n"
     ]
    },
    {
     "data": {
      "image/png": "[encoded data removed]",
      "text/plain": [
       "<Figure size 432x288 with 2 Axes>"
      ]
     },
     "metadata": {},
     "output_type": "display_data"
    },
    {
     "name": "stdout",
     "output_type": "stream",
     "text": [
      "############################################################################\n",
      "\n",
      "\n",
      "\n",
      "\n",
      "############################################################################\n",
      "Model name : SUPPORT VECTOR MACHINE\n",
      "############################################################################\n",
      "MODEL EVALUATION\n",
      "############################################################################\n",
      "Accuracy : 95.81646423751687 \n",
      "Precision: 95.71245733788396 \n",
      "Recall: 96.97428139183056 \n",
      "F1 score: 96.33923778851316 \n",
      "\n",
      "############################################################################\n",
      "CLASSIFICATION REPORT\n",
      "############################################################################\n",
      "                precision    recall  f1-score   support\n",
      "\n",
      "Not-Depresssed       0.96      0.94      0.95      7048\n",
      "    Depresssed       0.96      0.97      0.96      9254\n",
      "\n",
      "      accuracy                           0.96     16302\n",
      "     macro avg       0.96      0.96      0.96     16302\n",
      "  weighted avg       0.96      0.96      0.96     16302\n",
      "\n",
      "############################################################################\n",
      "CONFUSION MATRIX\n",
      "############################################################################\n"
     ]
    },
    {
     "data": {
      "image/png": "[encoded data removed]",
      "text/plain": [
       "<Figure size 432x288 with 2 Axes>"
      ]
     },
     "metadata": {},
     "output_type": "display_data"
    },
    {
     "name": "stdout",
     "output_type": "stream",
     "text": [
      "############################################################################\n",
      "\n",
      "\n",
      "\n",
      "\n",
      "############################################################################\n",
      "Model name : RANDOM FOREST\n",
      "############################################################################\n",
      "MODEL EVALUATION\n",
      "############################################################################\n",
      "Accuracy : 93.04993252361673 \n",
      "Precision: 94.20794774088186 \n",
      "Recall: 93.50551113032203 \n",
      "F1 score: 93.85541515266554 \n",
      "\n",
      "############################################################################\n",
      "CLASSIFICATION REPORT\n",
      "############################################################################\n",
      "                precision    recall  f1-score   support\n",
      "\n",
      "Not-Depresssed       0.92      0.92      0.92      7048\n",
      "    Depresssed       0.94      0.94      0.94      9254\n",
      "\n",
      "      accuracy                           0.93     16302\n",
      "     macro avg       0.93      0.93      0.93     16302\n",
      "  weighted avg       0.93      0.93      0.93     16302\n",
      "\n",
      "############################################################################\n",
      "CONFUSION MATRIX\n",
      "############################################################################\n"
     ]
    },
    {
     "data": {
      "image/png": "[encoded data removed]",
      "text/plain": [
       "<Figure size 432x288 with 2 Axes>"
      ]
     },
     "metadata": {},
     "output_type": "display_data"
    },
    {
     "name": "stdout",
     "output_type": "stream",
     "text": [
      "############################################################################\n",
      "\n",
      "\n",
      "\n",
      "\n"
     ]
    }
   ],
   "source": [
    "model_metrices_CV = {}\n",
    "\n",
    "for name in model_object.keys():\n",
    "    model_metrices_CV[name] = model_train_predict(name,X1_train, y1_train,X1_test,y1_test,outputpath)"
   ]
  },
  {
   "cell_type": "markdown",
   "metadata": {},
   "source": [
    "## Classification using TFIDF method"
   ]
  },
  {
   "cell_type": "code",
   "execution_count": 37,
   "metadata": {
    "scrolled": false
   },
   "outputs": [
    {
     "name": "stdout",
     "output_type": "stream",
     "text": [
      "############################################################################\n",
      "Model name : LOGISTIC REGRESSION\n",
      "############################################################################\n"
     ]
    },
    {
     "name": "stderr",
     "output_type": "stream",
     "text": [
      "C:\\Users\\hemal\\Anaconda3\\lib\\site-packages\\sklearn\\linear_model\\_logistic.py:764: ConvergenceWarning:\n",
      "\n",
      "lbfgs failed to converge (status=1):\n",
      "STOP: TOTAL NO. of ITERATIONS REACHED LIMIT.\n",
      "\n",
      "Increase the number of iterations (max_iter) or scale the data as shown in:\n",
      "    https://scikit-learn.org/stable/modules/preprocessing.html\n",
      "Please also refer to the documentation for alternative solver options:\n",
      "    https://scikit-learn.org/stable/modules/linear_model.html#logistic-regression\n",
      "\n"
     ]
    },
    {
     "name": "stdout",
     "output_type": "stream",
     "text": [
      "MODEL EVALUATION\n",
      "############################################################################\n",
      "Accuracy : 91.92123665807877 \n",
      "Precision: 90.04136817677329 \n",
      "Recall: 96.43397449751458 \n",
      "F1 score: 93.12809809548656 \n",
      "\n",
      "############################################################################\n",
      "CLASSIFICATION REPORT\n",
      "############################################################################\n",
      "                precision    recall  f1-score   support\n",
      "\n",
      "Not-Depresssed       0.95      0.86      0.90      7048\n",
      "    Depresssed       0.90      0.96      0.93      9254\n",
      "\n",
      "      accuracy                           0.92     16302\n",
      "     macro avg       0.92      0.91      0.92     16302\n",
      "  weighted avg       0.92      0.92      0.92     16302\n",
      "\n",
      "############################################################################\n",
      "CONFUSION MATRIX\n",
      "############################################################################\n"
     ]
    },
    {
     "data": {
      "image/png": "[encoded data removed]",
      "text/plain": [
       "<Figure size 432x288 with 2 Axes>"
      ]
     },
     "metadata": {},
     "output_type": "display_data"
    },
    {
     "name": "stdout",
     "output_type": "stream",
     "text": [
      "############################################################################\n",
      "\n",
      "\n",
      "\n",
      "\n",
      "############################################################################\n",
      "Model name : NAIVE BAYES\n",
      "############################################################################\n",
      "MODEL EVALUATION\n",
      "############################################################################\n",
      "Accuracy : 86.3513679303153 \n",
      "Precision: 86.1165347857363 \n",
      "Recall: 90.55543548735682 \n",
      "F1 score: 88.2802212272847 \n",
      "\n",
      "############################################################################\n",
      "CLASSIFICATION REPORT\n",
      "############################################################################\n",
      "                precision    recall  f1-score   support\n",
      "\n",
      "Not-Depresssed       0.87      0.81      0.84      7048\n",
      "    Depresssed       0.86      0.91      0.88      9254\n",
      "\n",
      "      accuracy                           0.86     16302\n",
      "     macro avg       0.86      0.86      0.86     16302\n",
      "  weighted avg       0.86      0.86      0.86     16302\n",
      "\n",
      "############################################################################\n",
      "CONFUSION MATRIX\n",
      "############################################################################\n"
     ]
    },
    {
     "data": {
      "image/png": "[encoded data removed]",
      "text/plain": [
       "<Figure size 432x288 with 2 Axes>"
      ]
     },
     "metadata": {},
     "output_type": "display_data"
    },
    {
     "name": "stdout",
     "output_type": "stream",
     "text": [
      "############################################################################\n",
      "\n",
      "\n",
      "\n",
      "\n",
      "############################################################################\n",
      "Model name : NEURAL NETWORK\n",
      "############################################################################\n"
     ]
    },
    {
     "name": "stderr",
     "output_type": "stream",
     "text": [
      "C:\\Users\\hemal\\Anaconda3\\lib\\site-packages\\sklearn\\neural_network\\_multilayer_perceptron.py:471: ConvergenceWarning:\n",
      "\n",
      "lbfgs failed to converge (status=1):\n",
      "STOP: TOTAL NO. of ITERATIONS REACHED LIMIT.\n",
      "\n",
      "Increase the number of iterations (max_iter) or scale the data as shown in:\n",
      "    https://scikit-learn.org/stable/modules/preprocessing.html\n",
      "\n"
     ]
    },
    {
     "name": "stdout",
     "output_type": "stream",
     "text": [
      "MODEL EVALUATION\n",
      "############################################################################\n",
      "Accuracy : 94.36878910563121 \n",
      "Precision: 94.57754010695187 \n",
      "Recall: 95.55867732872272 \n",
      "F1 score: 95.06557729520534 \n",
      "\n",
      "############################################################################\n",
      "CLASSIFICATION REPORT\n",
      "############################################################################\n",
      "                precision    recall  f1-score   support\n",
      "\n",
      "Not-Depresssed       0.94      0.93      0.93      7048\n",
      "    Depresssed       0.95      0.96      0.95      9254\n",
      "\n",
      "      accuracy                           0.94     16302\n",
      "     macro avg       0.94      0.94      0.94     16302\n",
      "  weighted avg       0.94      0.94      0.94     16302\n",
      "\n",
      "############################################################################\n",
      "CONFUSION MATRIX\n",
      "############################################################################\n"
     ]
    },
    {
     "data": {
      "image/png": "[encoded data removed]",
      "text/plain": [
       "<Figure size 432x288 with 2 Axes>"
      ]
     },
     "metadata": {},
     "output_type": "display_data"
    },
    {
     "name": "stdout",
     "output_type": "stream",
     "text": [
      "############################################################################\n",
      "\n",
      "\n",
      "\n",
      "\n",
      "############################################################################\n",
      "Model name : DECISION TREE\n",
      "############################################################################\n",
      "MODEL EVALUATION\n",
      "############################################################################\n",
      "Accuracy : 71.17531591215803 \n",
      "Precision: 66.86162730436071 \n",
      "Recall: 97.59023125135077 \n",
      "F1 score: 79.35503712490663 \n",
      "\n",
      "############################################################################\n",
      "CLASSIFICATION REPORT\n",
      "############################################################################\n",
      "                precision    recall  f1-score   support\n",
      "\n",
      "Not-Depresssed       0.92      0.36      0.52      7048\n",
      "    Depresssed       0.67      0.98      0.79      9254\n",
      "\n",
      "      accuracy                           0.71     16302\n",
      "     macro avg       0.79      0.67      0.66     16302\n",
      "  weighted avg       0.78      0.71      0.68     16302\n",
      "\n",
      "############################################################################\n",
      "CONFUSION MATRIX\n",
      "############################################################################\n"
     ]
    },
    {
     "data": {
      "image/png": "[encoded data removed]",
      "text/plain": [
       "<Figure size 432x288 with 2 Axes>"
      ]
     },
     "metadata": {},
     "output_type": "display_data"
    },
    {
     "name": "stdout",
     "output_type": "stream",
     "text": [
      "############################################################################\n",
      "\n",
      "\n",
      "\n",
      "\n",
      "############################################################################\n",
      "Model name : SUPPORT VECTOR MACHINE\n",
      "############################################################################\n",
      "MODEL EVALUATION\n",
      "############################################################################\n",
      "Accuracy : 94.35038645564961 \n",
      "Precision: 93.66027454678823 \n",
      "Recall: 96.58526042792306 \n",
      "F1 score: 95.10028195988723 \n",
      "\n",
      "############################################################################\n",
      "CLASSIFICATION REPORT\n",
      "############################################################################\n",
      "                precision    recall  f1-score   support\n",
      "\n",
      "Not-Depresssed       0.95      0.91      0.93      7048\n",
      "    Depresssed       0.94      0.97      0.95      9254\n",
      "\n",
      "      accuracy                           0.94     16302\n",
      "     macro avg       0.94      0.94      0.94     16302\n",
      "  weighted avg       0.94      0.94      0.94     16302\n",
      "\n",
      "############################################################################\n",
      "CONFUSION MATRIX\n",
      "############################################################################\n"
     ]
    },
    {
     "data": {
      "image/png": "[encoded data removed]",
      "text/plain": [
       "<Figure size 432x288 with 2 Axes>"
      ]
     },
     "metadata": {},
     "output_type": "display_data"
    },
    {
     "name": "stdout",
     "output_type": "stream",
     "text": [
      "############################################################################\n",
      "\n",
      "\n",
      "\n",
      "\n",
      "############################################################################\n",
      "Model name : RANDOM FOREST\n",
      "############################################################################\n",
      "MODEL EVALUATION\n",
      "############################################################################\n",
      "Accuracy : 92.38743712427923 \n",
      "Precision: 93.02974975835033 \n",
      "Recall: 93.6027663712989 \n",
      "F1 score: 93.31537840021545 \n",
      "\n",
      "############################################################################\n",
      "CLASSIFICATION REPORT\n",
      "############################################################################\n",
      "                precision    recall  f1-score   support\n",
      "\n",
      "Not-Depresssed       0.92      0.91      0.91      7048\n",
      "    Depresssed       0.93      0.94      0.93      9254\n",
      "\n",
      "      accuracy                           0.92     16302\n",
      "     macro avg       0.92      0.92      0.92     16302\n",
      "  weighted avg       0.92      0.92      0.92     16302\n",
      "\n",
      "############################################################################\n",
      "CONFUSION MATRIX\n",
      "############################################################################\n"
     ]
    },
    {
     "data": {
      "image/png": "[encoded data removed]",
      "text/plain": [
       "<Figure size 432x288 with 2 Axes>"
      ]
     },
     "metadata": {},
     "output_type": "display_data"
    },
    {
     "name": "stdout",
     "output_type": "stream",
     "text": [
      "############################################################################\n",
      "\n",
      "\n",
      "\n",
      "\n"
     ]
    }
   ],
   "source": [
    "model_metrices_TFIDF = {}\n",
    "for name in model_object.keys():\n",
    "    model_metrices_TFIDF[name] = model_train_predict(name,X2_train, y2_train,X2_test,y2_test,outputpath)\n",
    "    "
   ]
  },
  {
   "cell_type": "code",
   "execution_count": 38,
   "metadata": {},
   "outputs": [
    {
     "data": {
      "text/plain": [
       "{'LR': [91.92123665807877,\n",
       "  90.04136817677329,\n",
       "  96.43397449751458,\n",
       "  93.12809809548656],\n",
       " 'NB': [86.3513679303153,\n",
       "  86.1165347857363,\n",
       "  90.55543548735682,\n",
       "  88.2802212272847],\n",
       " 'NN': [94.36878910563121,\n",
       "  94.57754010695187,\n",
       "  95.55867732872272,\n",
       "  95.06557729520534],\n",
       " 'DT': [71.17531591215803,\n",
       "  66.86162730436071,\n",
       "  97.59023125135077,\n",
       "  79.35503712490663],\n",
       " 'SVM': [94.35038645564961,\n",
       "  93.66027454678823,\n",
       "  96.58526042792306,\n",
       "  95.10028195988723],\n",
       " 'RF': [92.38743712427923,\n",
       "  93.02974975835033,\n",
       "  93.6027663712989,\n",
       "  93.31537840021545]}"
      ]
     },
     "execution_count": 38,
     "metadata": {},
     "output_type": "execute_result"
    }
   ],
   "source": [
    "model_metrices_TFIDF"
   ]
  },
  {
   "cell_type": "code",
   "execution_count": 39,
   "metadata": {},
   "outputs": [
    {
     "data": {
      "text/plain": [
       "{'LR': [94.62029198871305,\n",
       "  94.01071766312914,\n",
       "  96.68251566889994,\n",
       "  95.32789941931703],\n",
       " 'NB': [86.45564961354435,\n",
       "  90.5221992178514,\n",
       "  85.04430516533391,\n",
       "  87.69779362603076],\n",
       " 'NN': [94.65709728867624,\n",
       "  95.07473921927088,\n",
       "  95.53706505295008,\n",
       "  95.30534145421225],\n",
       " 'DT': [71.21825542878175,\n",
       "  66.90130409010077,\n",
       "  97.56861897557812,\n",
       "  79.37582417582418],\n",
       " 'SVM': [95.81646423751687,\n",
       "  95.71245733788396,\n",
       "  96.97428139183056,\n",
       "  96.33923778851316],\n",
       " 'RF': [93.04993252361673,\n",
       "  94.20794774088186,\n",
       "  93.50551113032203,\n",
       "  93.85541515266554]}"
      ]
     },
     "execution_count": 39,
     "metadata": {},
     "output_type": "execute_result"
    }
   ],
   "source": [
    "model_metrices_CV"
   ]
  },
  {
   "cell_type": "markdown",
   "metadata": {},
   "source": [
    "## Comparison between countvector and TFIDF methods for different classification models"
   ]
  },
  {
   "cell_type": "markdown",
   "metadata": {},
   "source": [
    "### Count Vector Method"
   ]
  },
  {
   "cell_type": "code",
   "execution_count": 40,
   "metadata": {},
   "outputs": [
    {
     "data": {
      "text/html": [
       "<div>\n",
       "<style scoped>\n",
       "    .dataframe tbody tr th:only-of-type {\n",
       "        vertical-align: middle;\n",
       "    }\n",
       "\n",
       "    .dataframe tbody tr th {\n",
       "        vertical-align: top;\n",
       "    }\n",
       "\n",
       "    .dataframe thead th {\n",
       "        text-align: right;\n",
       "    }\n",
       "</style>\n",
       "<table border=\"1\" class=\"dataframe\">\n",
       "  <thead>\n",
       "    <tr style=\"text-align: right;\">\n",
       "      <th></th>\n",
       "      <th>CV_ACCURACY</th>\n",
       "      <th>CV_PRECISION</th>\n",
       "      <th>CV_RECALL</th>\n",
       "      <th>CV_F1SCORE</th>\n",
       "    </tr>\n",
       "  </thead>\n",
       "  <tbody>\n",
       "    <tr>\n",
       "      <td>LR</td>\n",
       "      <td>94.620292</td>\n",
       "      <td>94.010718</td>\n",
       "      <td>96.682516</td>\n",
       "      <td>95.327899</td>\n",
       "    </tr>\n",
       "    <tr>\n",
       "      <td>NB</td>\n",
       "      <td>86.455650</td>\n",
       "      <td>90.522199</td>\n",
       "      <td>85.044305</td>\n",
       "      <td>87.697794</td>\n",
       "    </tr>\n",
       "    <tr>\n",
       "      <td>NN</td>\n",
       "      <td>94.657097</td>\n",
       "      <td>95.074739</td>\n",
       "      <td>95.537065</td>\n",
       "      <td>95.305341</td>\n",
       "    </tr>\n",
       "    <tr>\n",
       "      <td>DT</td>\n",
       "      <td>71.218255</td>\n",
       "      <td>66.901304</td>\n",
       "      <td>97.568619</td>\n",
       "      <td>79.375824</td>\n",
       "    </tr>\n",
       "    <tr>\n",
       "      <td>SVM</td>\n",
       "      <td>95.816464</td>\n",
       "      <td>95.712457</td>\n",
       "      <td>96.974281</td>\n",
       "      <td>96.339238</td>\n",
       "    </tr>\n",
       "    <tr>\n",
       "      <td>RF</td>\n",
       "      <td>93.049933</td>\n",
       "      <td>94.207948</td>\n",
       "      <td>93.505511</td>\n",
       "      <td>93.855415</td>\n",
       "    </tr>\n",
       "  </tbody>\n",
       "</table>\n",
       "</div>"
      ],
      "text/plain": [
       "     CV_ACCURACY  CV_PRECISION  CV_RECALL  CV_F1SCORE\n",
       "LR     94.620292     94.010718  96.682516   95.327899\n",
       "NB     86.455650     90.522199  85.044305   87.697794\n",
       "NN     94.657097     95.074739  95.537065   95.305341\n",
       "DT     71.218255     66.901304  97.568619   79.375824\n",
       "SVM    95.816464     95.712457  96.974281   96.339238\n",
       "RF     93.049933     94.207948  93.505511   93.855415"
      ]
     },
     "execution_count": 40,
     "metadata": {},
     "output_type": "execute_result"
    }
   ],
   "source": [
    "CV_metrix_df = pd.DataFrame.from_dict(model_metrices_CV, orient='index',columns=[\"CV_ACCURACY\",\"CV_PRECISION\", \"CV_RECALL\",\"CV_F1SCORE\"])\n",
    "CV_metrix_df"
   ]
  },
  {
   "cell_type": "markdown",
   "metadata": {},
   "source": [
    "### TFIDF method"
   ]
  },
  {
   "cell_type": "code",
   "execution_count": 41,
   "metadata": {},
   "outputs": [
    {
     "data": {
      "text/html": [
       "<div>\n",
       "<style scoped>\n",
       "    .dataframe tbody tr th:only-of-type {\n",
       "        vertical-align: middle;\n",
       "    }\n",
       "\n",
       "    .dataframe tbody tr th {\n",
       "        vertical-align: top;\n",
       "    }\n",
       "\n",
       "    .dataframe thead th {\n",
       "        text-align: right;\n",
       "    }\n",
       "</style>\n",
       "<table border=\"1\" class=\"dataframe\">\n",
       "  <thead>\n",
       "    <tr style=\"text-align: right;\">\n",
       "      <th></th>\n",
       "      <th>TFIDF_ACCURACY</th>\n",
       "      <th>TFIDF_PRECISION</th>\n",
       "      <th>TFIDF_RECALL</th>\n",
       "      <th>TFIDF_F1SCORE</th>\n",
       "    </tr>\n",
       "  </thead>\n",
       "  <tbody>\n",
       "    <tr>\n",
       "      <td>LR</td>\n",
       "      <td>91.921237</td>\n",
       "      <td>90.041368</td>\n",
       "      <td>96.433974</td>\n",
       "      <td>93.128098</td>\n",
       "    </tr>\n",
       "    <tr>\n",
       "      <td>NB</td>\n",
       "      <td>86.351368</td>\n",
       "      <td>86.116535</td>\n",
       "      <td>90.555435</td>\n",
       "      <td>88.280221</td>\n",
       "    </tr>\n",
       "    <tr>\n",
       "      <td>NN</td>\n",
       "      <td>94.368789</td>\n",
       "      <td>94.577540</td>\n",
       "      <td>95.558677</td>\n",
       "      <td>95.065577</td>\n",
       "    </tr>\n",
       "    <tr>\n",
       "      <td>DT</td>\n",
       "      <td>71.175316</td>\n",
       "      <td>66.861627</td>\n",
       "      <td>97.590231</td>\n",
       "      <td>79.355037</td>\n",
       "    </tr>\n",
       "    <tr>\n",
       "      <td>SVM</td>\n",
       "      <td>94.350386</td>\n",
       "      <td>93.660275</td>\n",
       "      <td>96.585260</td>\n",
       "      <td>95.100282</td>\n",
       "    </tr>\n",
       "    <tr>\n",
       "      <td>RF</td>\n",
       "      <td>92.387437</td>\n",
       "      <td>93.029750</td>\n",
       "      <td>93.602766</td>\n",
       "      <td>93.315378</td>\n",
       "    </tr>\n",
       "  </tbody>\n",
       "</table>\n",
       "</div>"
      ],
      "text/plain": [
       "     TFIDF_ACCURACY  TFIDF_PRECISION  TFIDF_RECALL  TFIDF_F1SCORE\n",
       "LR        91.921237        90.041368     96.433974      93.128098\n",
       "NB        86.351368        86.116535     90.555435      88.280221\n",
       "NN        94.368789        94.577540     95.558677      95.065577\n",
       "DT        71.175316        66.861627     97.590231      79.355037\n",
       "SVM       94.350386        93.660275     96.585260      95.100282\n",
       "RF        92.387437        93.029750     93.602766      93.315378"
      ]
     },
     "execution_count": 41,
     "metadata": {},
     "output_type": "execute_result"
    }
   ],
   "source": [
    "TDIDF_metrix_df = pd.DataFrame.from_dict(model_metrices_TFIDF, orient='index',columns=[\"TFIDF_ACCURACY\",\"TFIDF_PRECISION\", \"TFIDF_RECALL\",\"TFIDF_F1SCORE\"])\n",
    "TDIDF_metrix_df"
   ]
  },
  {
   "cell_type": "markdown",
   "metadata": {},
   "source": [
    "## combining 2 dfs"
   ]
  },
  {
   "cell_type": "code",
   "execution_count": 42,
   "metadata": {},
   "outputs": [
    {
     "data": {
      "text/html": [
       "<div>\n",
       "<style scoped>\n",
       "    .dataframe tbody tr th:only-of-type {\n",
       "        vertical-align: middle;\n",
       "    }\n",
       "\n",
       "    .dataframe tbody tr th {\n",
       "        vertical-align: top;\n",
       "    }\n",
       "\n",
       "    .dataframe thead th {\n",
       "        text-align: right;\n",
       "    }\n",
       "</style>\n",
       "<table border=\"1\" class=\"dataframe\">\n",
       "  <thead>\n",
       "    <tr style=\"text-align: right;\">\n",
       "      <th></th>\n",
       "      <th>CV_ACCURACY</th>\n",
       "      <th>TFIDF_ACCURACY</th>\n",
       "      <th>CV_PRECISION</th>\n",
       "      <th>TFIDF_PRECISION</th>\n",
       "      <th>CV_RECALL</th>\n",
       "      <th>TFIDF_RECALL</th>\n",
       "      <th>CV_F1SCORE</th>\n",
       "      <th>TFIDF_F1SCORE</th>\n",
       "    </tr>\n",
       "  </thead>\n",
       "  <tbody>\n",
       "    <tr>\n",
       "      <td>LOGISTIC REGRESSION</td>\n",
       "      <td>94.620292</td>\n",
       "      <td>91.921237</td>\n",
       "      <td>94.010718</td>\n",
       "      <td>90.041368</td>\n",
       "      <td>96.682516</td>\n",
       "      <td>96.433974</td>\n",
       "      <td>95.327899</td>\n",
       "      <td>93.128098</td>\n",
       "    </tr>\n",
       "    <tr>\n",
       "      <td>NAIVE BAYES</td>\n",
       "      <td>86.455650</td>\n",
       "      <td>86.351368</td>\n",
       "      <td>90.522199</td>\n",
       "      <td>86.116535</td>\n",
       "      <td>85.044305</td>\n",
       "      <td>90.555435</td>\n",
       "      <td>87.697794</td>\n",
       "      <td>88.280221</td>\n",
       "    </tr>\n",
       "    <tr>\n",
       "      <td>NEURAL NETWORK</td>\n",
       "      <td>94.657097</td>\n",
       "      <td>94.368789</td>\n",
       "      <td>95.074739</td>\n",
       "      <td>94.577540</td>\n",
       "      <td>95.537065</td>\n",
       "      <td>95.558677</td>\n",
       "      <td>95.305341</td>\n",
       "      <td>95.065577</td>\n",
       "    </tr>\n",
       "    <tr>\n",
       "      <td>DECISION TREE</td>\n",
       "      <td>71.218255</td>\n",
       "      <td>71.175316</td>\n",
       "      <td>66.901304</td>\n",
       "      <td>66.861627</td>\n",
       "      <td>97.568619</td>\n",
       "      <td>97.590231</td>\n",
       "      <td>79.375824</td>\n",
       "      <td>79.355037</td>\n",
       "    </tr>\n",
       "    <tr>\n",
       "      <td>SVM</td>\n",
       "      <td>95.816464</td>\n",
       "      <td>94.350386</td>\n",
       "      <td>95.712457</td>\n",
       "      <td>93.660275</td>\n",
       "      <td>96.974281</td>\n",
       "      <td>96.585260</td>\n",
       "      <td>96.339238</td>\n",
       "      <td>95.100282</td>\n",
       "    </tr>\n",
       "    <tr>\n",
       "      <td>RF</td>\n",
       "      <td>93.049933</td>\n",
       "      <td>92.387437</td>\n",
       "      <td>94.207948</td>\n",
       "      <td>93.029750</td>\n",
       "      <td>93.505511</td>\n",
       "      <td>93.602766</td>\n",
       "      <td>93.855415</td>\n",
       "      <td>93.315378</td>\n",
       "    </tr>\n",
       "  </tbody>\n",
       "</table>\n",
       "</div>"
      ],
      "text/plain": [
       "                     CV_ACCURACY  TFIDF_ACCURACY  CV_PRECISION  \\\n",
       "LOGISTIC REGRESSION    94.620292       91.921237     94.010718   \n",
       "NAIVE BAYES            86.455650       86.351368     90.522199   \n",
       "NEURAL NETWORK         94.657097       94.368789     95.074739   \n",
       "DECISION TREE          71.218255       71.175316     66.901304   \n",
       "SVM                    95.816464       94.350386     95.712457   \n",
       "RF                     93.049933       92.387437     94.207948   \n",
       "\n",
       "                     TFIDF_PRECISION  CV_RECALL  TFIDF_RECALL  CV_F1SCORE  \\\n",
       "LOGISTIC REGRESSION        90.041368  96.682516     96.433974   95.327899   \n",
       "NAIVE BAYES                86.116535  85.044305     90.555435   87.697794   \n",
       "NEURAL NETWORK             94.577540  95.537065     95.558677   95.305341   \n",
       "DECISION TREE              66.861627  97.568619     97.590231   79.375824   \n",
       "SVM                        93.660275  96.974281     96.585260   96.339238   \n",
       "RF                         93.029750  93.505511     93.602766   93.855415   \n",
       "\n",
       "                     TFIDF_F1SCORE  \n",
       "LOGISTIC REGRESSION      93.128098  \n",
       "NAIVE BAYES              88.280221  \n",
       "NEURAL NETWORK           95.065577  \n",
       "DECISION TREE            79.355037  \n",
       "SVM                      95.100282  \n",
       "RF                       93.315378  "
      ]
     },
     "execution_count": 42,
     "metadata": {},
     "output_type": "execute_result"
    }
   ],
   "source": [
    "combined_results = pd.concat([TDIDF_metrix_df, CV_metrix_df], axis=1)\n",
    "# reorder the column\n",
    "combined_results = combined_results[[\"CV_ACCURACY\",\"TFIDF_ACCURACY\",\"CV_PRECISION\",\"TFIDF_PRECISION\",\"CV_RECALL\",\"TFIDF_RECALL\",\"CV_F1SCORE\",\"TFIDF_F1SCORE\"]]\n",
    "combined_results.index = ['LOGISTIC REGRESSION', 'NAIVE BAYES', 'NEURAL NETWORK', 'DECISION TREE',\"SVM\",\"RF\"] \n",
    "combined_results"
   ]
  },
  {
   "cell_type": "markdown",
   "metadata": {},
   "source": [
    "## Plotting the comparison results"
   ]
  },
  {
   "cell_type": "code",
   "execution_count": 51,
   "metadata": {},
   "outputs": [],
   "source": [
    "# data to plot\n",
    "def plot_comparison(index,column1,column2,name,outputpath):\n",
    "    n_models = np.arange(len(index))\n",
    "    # create plot\n",
    "    fig1, ax = plt.subplots()\n",
    "    bar_width = 0.35\n",
    "\n",
    "    ax = plt.bar(n_models+1, column1, bar_width, color='#5cb85c', label = name + \" BOW\")\n",
    "    ax1 = plt.bar(n_models + bar_width+1, column2, bar_width, color='#5bc0de', label = name + \" TFIDF\")\n",
    "\n",
    "    plt.xlabel('Models')\n",
    "    plt.ylabel('Scores')\n",
    "    title = name + \" Score for the models with BOW and TDFIF\"\n",
    "    plt.title(title)\n",
    "    plt.xticks(n_models + bar_width + 1, index)\n",
    "    plt.legend(loc='upper right')\n",
    "    \n",
    "    plt.tight_layout()\n",
    "    plt.show()\n",
    "    "
   ]
  },
  {
   "cell_type": "code",
   "execution_count": 52,
   "metadata": {},
   "outputs": [
    {
     "name": "stdout",
     "output_type": "stream",
     "text": [
      "##################################################\n",
      "ACCURACY\n",
      "##################################################\n"
     ]
    },
    {
     "data": {
      "image/png": "[encoded data removed]",
      "text/plain": [
       "<Figure size 432x288 with 1 Axes>"
      ]
     },
     "metadata": {},
     "output_type": "display_data"
    },
    {
     "name": "stdout",
     "output_type": "stream",
     "text": [
      "##################################################\n",
      "PRECISION\n",
      "##################################################\n"
     ]
    },
    {
     "data": {
      "image/png": "[encoded data removed]",
      "text/plain": [
       "<Figure size 432x288 with 1 Axes>"
      ]
     },
     "metadata": {},
     "output_type": "display_data"
    },
    {
     "name": "stdout",
     "output_type": "stream",
     "text": [
      "##################################################\n",
      "RECALL\n",
      "##################################################\n"
     ]
    },
    {
     "data": {
      "image/png": "[encoded data removed]",
      "text/plain": [
       "<Figure size 432x288 with 1 Axes>"
      ]
     },
     "metadata": {},
     "output_type": "display_data"
    },
    {
     "name": "stdout",
     "output_type": "stream",
     "text": [
      "##################################################\n",
      "F1SCORE\n",
      "##################################################\n"
     ]
    },
    {
     "data": {
      "image/png": "[encoded data removed]",
      "text/plain": [
       "<Figure size 432x288 with 1 Axes>"
      ]
     },
     "metadata": {},
     "output_type": "display_data"
    }
   ],
   "source": [
    "Xlables = [\"LR\",\"NB\",\"NN\",\"DT\",\"SVM\",\"RF\"]\n",
    "for i in range(0,len(combined_results.columns)-1,2):\n",
    "    print(\"##################################################\")\n",
    "    print(combined_results.columns[i][3:])\n",
    "    print(\"##################################################\")\n",
    "    \n",
    "    plot_comparison(Xlables,combined_results[combined_results.columns[i]],combined_results[combined_results.columns[i+1]],combined_results.columns[i][3:],outputpath)\n",
    "    "
   ]
  },
  {
   "cell_type": "markdown",
   "metadata": {},
   "source": [
    "# Clustering "
   ]
  },
  {
   "cell_type": "markdown",
   "metadata": {},
   "source": [
    "#### Read the pre-processed csv file obtained from sentiment analysis containing positive, negative and neutral tweets\n",
    "#### Separate the negative tweets from the other two categories and convert into vector values based on Tf-Idf vectorization.\n"
   ]
  },
  {
   "cell_type": "markdown",
   "metadata": {},
   "source": [
    "#### Run the k-means clustering method with elbow method of cluster analysis.\n",
    "#### Visualization of the clusters and top feature words from each cluster "
   ]
  },
  {
   "cell_type": "markdown",
   "metadata": {},
   "source": [
    "## Clustering of negative sentiment depression tweets"
   ]
  },
  {
   "cell_type": "markdown",
   "metadata": {},
   "source": [
    "### retrieve tweets from sentiment analysis"
   ]
  },
  {
   "cell_type": "code",
   "execution_count": null,
   "metadata": {},
   "outputs": [],
   "source": [
    "sentpath = inputpath + \"sentiment_analysisComplete.csv\"\n",
    "sent = pd.read_csv(sentpath)\n",
    "sent.head()\n"
   ]
  },
  {
   "cell_type": "markdown",
   "metadata": {},
   "source": [
    "### Negative tweets for train and test"
   ]
  },
  {
   "cell_type": "code",
   "execution_count": null,
   "metadata": {},
   "outputs": [],
   "source": [
    "sentiment_neg = sent[sent[\"sentiment\"].isin([\"negative\"])]\n",
    "sentiment_neg.head()    \n",
    "X_train, X_test = train_test_split(sentiment_neg['preprocessed_data'], test_size=0.33, random_state=42)    \n",
    "   "
   ]
  },
  {
   "cell_type": "markdown",
   "metadata": {},
   "source": [
    "### Tf-idf Vectorization "
   ]
  },
  {
   "cell_type": "code",
   "execution_count": null,
   "metadata": {},
   "outputs": [],
   "source": [
    "from sklearn.feature_extraction.text import TfidfVectorizer\n",
    "#data = sentiment_neg['preprocessed_data']\n",
    "data = X_train\n",
    "\n",
    "tf_idf_vectorizor = TfidfVectorizer(stop_words = 'english',#tokenizer = tokenize_and_stem,\n",
    "                             max_features = 20000)\n",
    "                                   \n",
    "tf_idf = tf_idf_vectorizor.fit_transform(data)\n",
    "tf_idf_norm = normalize(tf_idf)\n",
    "tf_idf_array = tf_idf_norm.toarray()"
   ]
  },
  {
   "cell_type": "code",
   "execution_count": null,
   "metadata": {},
   "outputs": [],
   "source": [
    "pd.DataFrame(tf_idf_array, columns=tf_idf_vectorizor.get_feature_names()).head()"
   ]
  },
  {
   "cell_type": "markdown",
   "metadata": {},
   "source": [
    "### K-means clustering "
   ]
  },
  {
   "cell_type": "code",
   "execution_count": null,
   "metadata": {},
   "outputs": [],
   "source": [
    "from sklearn.cluster import KMeans\n",
    "sklearn_pca = PCA(n_components = 3)\n",
    "Y_sklearn = sklearn_pca.fit_transform(tf_idf_array)\n",
    "kmeans = KMeans(n_clusters=5, max_iter=300, algorithm = 'auto')\n",
    "fitted = kmeans.fit(Y_sklearn)\n",
    "prediction = kmeans.predict(Y_sklearn)"
   ]
  },
  {
   "cell_type": "markdown",
   "metadata": {},
   "source": [
    "### Elbow method to find the number of efficient clusters"
   ]
  },
  {
   "cell_type": "code",
   "execution_count": null,
   "metadata": {},
   "outputs": [],
   "source": [
    "fig1 = plt.figure(figsize=(10, 7))\n",
    "number_clusters = range(1, 10)\n",
    "\n",
    "kmeans = [KMeans(n_clusters=i, max_iter = 300) for i in number_clusters]\n",
    "kmeans\n",
    "\n",
    "score = [kmeans[i].fit(Y_sklearn).score(Y_sklearn) for i in range(len(kmeans))]\n",
    "\n",
    "plt.plot(number_clusters, score)\n",
    "plt.xlabel('Number of Clusters')\n",
    "plt.ylabel('Score')\n",
    "plt.title('Elbow Method')\n",
    "plt.show()\n",
    "fig1path = outputpath + \"elbowMethod_graph.png\"\n",
    "fig1.savefig(fig1path)"
   ]
  },
  {
   "cell_type": "markdown",
   "metadata": {},
   "source": [
    "### Visualization of k-means clustering"
   ]
  },
  {
   "cell_type": "code",
   "execution_count": null,
   "metadata": {},
   "outputs": [],
   "source": [
    "fig2 = plt.figure(figsize=(10, 7))\n",
    "plt.scatter(Y_sklearn[:, 0], Y_sklearn[:, 1], c=prediction, s=50, cmap='viridis')\n",
    "centers = fitted.cluster_centers_\n",
    "plt.scatter(centers[:, 0], centers[:, 1],c='black', s=300, alpha=0.6);\n",
    "figpath = outputpath + \"clusterResults.png\"\n",
    "fig2.savefig(figpath)"
   ]
  },
  {
   "cell_type": "markdown",
   "metadata": {},
   "source": [
    "### Top features for each cluster "
   ]
  },
  {
   "cell_type": "code",
   "execution_count": null,
   "metadata": {},
   "outputs": [],
   "source": [
    "def get_top_features_cluster(tf_idf_array, prediction, n_feats,outputpath):\n",
    "    labels = np.unique(prediction)\n",
    "    dfs = []\n",
    "    for label in labels:\n",
    "        id_temp = np.where(prediction==label) # indices for each cluster\n",
    "        x_means = np.mean(tf_idf_array[id_temp], axis = 0) # returns average score across cluster\n",
    "        sorted_means = np.argsort(x_means)[::-1][:n_feats] # indices with top 20 scores\n",
    "        features = tf_idf_vectorizor.get_feature_names()\n",
    "        best_features = [(features[i], x_means[i]) for i in sorted_means]\n",
    "        df = pd.DataFrame(best_features, columns = ['features', 'score'])\n",
    "        fig3 = plt.figure(figsize=(10, 7))\n",
    "        x_pos = [i for i,_ in enumerate(df['features'])]\n",
    "        plt.barh(x_pos,df['score'], color='green' )\n",
    "        plt.ylabel(\"Features\")\n",
    "        plt.xlabel(\"score\")\n",
    "        plt.yticks(x_pos, df['features'])\n",
    "        plt.show()\n",
    "        fig2path = outputpath + str(label)+\".png\"\n",
    "        fig3.savefig(fig2path)\n",
    "        dfs.append(df)\n",
    "    return dfs\n"
   ]
  },
  {
   "cell_type": "code",
   "execution_count": null,
   "metadata": {},
   "outputs": [],
   "source": [
    "dfs = get_top_features_cluster(tf_idf_array, prediction, 30,outputpath)"
   ]
  },
  {
   "cell_type": "markdown",
   "metadata": {},
   "source": [
    "### data preparation for testing"
   ]
  },
  {
   "cell_type": "code",
   "execution_count": null,
   "metadata": {},
   "outputs": [],
   "source": [
    "data_test = X_test\n",
    "tf_idf_test = tf_idf_vectorizor.transform(data_test)\n",
    "tf_idf_norm_test = normalize(tf_idf_test)\n",
    "tf_idf_array_test = tf_idf_norm_test.toarray()\n",
    "Ytest_sklearn = sklearn_pca.transform(tf_idf_array_test)"
   ]
  },
  {
   "cell_type": "code",
   "execution_count": null,
   "metadata": {},
   "outputs": [],
   "source": [
    "prediction_test = kmeans.predict(Ytest_sklearn)"
   ]
  },
  {
   "cell_type": "markdown",
   "metadata": {},
   "source": [
    "### Evaluation of test data "
   ]
  },
  {
   "cell_type": "code",
   "execution_count": null,
   "metadata": {},
   "outputs": [],
   "source": [
    "from sklearn.metrics import silhouette_score\n",
    "print('Silhouette Score(n=5):', silhouette_score(Ytest_sklearn, prediction_test))"
   ]
  },
  {
   "cell_type": "markdown",
   "metadata": {},
   "source": [
    "### Evalution of train data "
   ]
  },
  {
   "cell_type": "code",
   "execution_count": null,
   "metadata": {},
   "outputs": [],
   "source": [
    "print('Silhouette Score(n=5):', silhouette_score(Y_sklearn, prediction))"
   ]
  },
  {
   "cell_type": "markdown",
   "metadata": {},
   "source": [
    "#########################THE END###############################"
   ]
  }
 ],
 "metadata": {
  "kernelspec": {
   "display_name": "Python 3",
   "language": "python",
   "name": "python3"
  },
  "language_info": {
   "codemirror_mode": {
    "name": "ipython",
    "version": 3
   },
   "file_extension": ".py",
   "mimetype": "text/x-python",
   "name": "python",
   "nbconvert_exporter": "python",
   "pygments_lexer": "ipython3",
   "version": "3.8.6"
  }
 },
 "nbformat": 4,
 "nbformat_minor": 2
}
